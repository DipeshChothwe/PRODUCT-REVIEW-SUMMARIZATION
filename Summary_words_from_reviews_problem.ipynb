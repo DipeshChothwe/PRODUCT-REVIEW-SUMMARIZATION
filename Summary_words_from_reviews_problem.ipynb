{
  "nbformat": 4,
  "nbformat_minor": 0,
  "metadata": {
    "colab": {
      "name": "Summary_words_from_reviews_problem.ipynb",
      "provenance": [],
      "authorship_tag": "ABX9TyMl+i7OpvvGIxDBx4tMmfIX",
      "include_colab_link": true
    },
    "kernelspec": {
      "name": "python3",
      "display_name": "Python 3"
    }
  },
  "cells": [
    {
      "cell_type": "markdown",
      "metadata": {
        "id": "view-in-github",
        "colab_type": "text"
      },
      "source": [
        "<a href=\"https://colab.research.google.com/github/DipeshChothwe/PRODUCT-REVIEW-SUMMARIZATION/blob/main/Summary_words_from_reviews_problem.ipynb\" target=\"_parent\"><img src=\"https://colab.research.google.com/assets/colab-badge.svg\" alt=\"Open In Colab\"/></a>"
      ]
    },
    {
      "cell_type": "markdown",
      "metadata": {
        "id": "1nJq9sUCYBVB"
      },
      "source": [
        "# **Loading the data**"
      ]
    },
    {
      "cell_type": "code",
      "metadata": {
        "id": "w8WHoEyz297x",
        "outputId": "4d3ac292-6769-4007-9200-2c7d08c48880",
        "colab": {
          "base_uri": "https://localhost:8080/",
          "height": 34
        }
      },
      "source": [
        "from google.colab import drive\n",
        "drive.mount('/content/drive')"
      ],
      "execution_count": 1,
      "outputs": [
        {
          "output_type": "stream",
          "text": [
            "Drive already mounted at /content/drive; to attempt to forcibly remount, call drive.mount(\"/content/drive\", force_remount=True).\n"
          ],
          "name": "stdout"
        }
      ]
    },
    {
      "cell_type": "code",
      "metadata": {
        "id": "dwfivCU-6rY8"
      },
      "source": [
        "import requests\n",
        "from bs4 import BeautifulSoup\n",
        "import pandas as pd\n",
        "import numpy as np\n",
        "import matplotlib.pyplot as plt\n",
        "import seaborn as sns\n",
        "import os"
      ],
      "execution_count": 2,
      "outputs": []
    },
    {
      "cell_type": "code",
      "metadata": {
        "id": "3vZOlCZG5-os"
      },
      "source": [
        "reviews = pd.read_json('/content/drive/My Drive/NLP/Cell_Phones_and_Accessories.json')\n"
      ],
      "execution_count": 3,
      "outputs": []
    },
    {
      "cell_type": "markdown",
      "metadata": {
        "id": "kXE5bojFYIIe"
      },
      "source": [
        "# **Understanding the data**"
      ]
    },
    {
      "cell_type": "code",
      "metadata": {
        "id": "FaI7DG2s9yFU",
        "outputId": "1a1e1971-9ed5-4258-d1d2-779beea8b98e",
        "colab": {
          "base_uri": "https://localhost:8080/",
          "height": 97
        }
      },
      "source": [
        "reviews.head(1)"
      ],
      "execution_count": 4,
      "outputs": [
        {
          "output_type": "execute_result",
          "data": {
            "text/html": [
              "<div>\n",
              "<style scoped>\n",
              "    .dataframe tbody tr th:only-of-type {\n",
              "        vertical-align: middle;\n",
              "    }\n",
              "\n",
              "    .dataframe tbody tr th {\n",
              "        vertical-align: top;\n",
              "    }\n",
              "\n",
              "    .dataframe thead th {\n",
              "        text-align: right;\n",
              "    }\n",
              "</style>\n",
              "<table border=\"1\" class=\"dataframe\">\n",
              "  <thead>\n",
              "    <tr style=\"text-align: right;\">\n",
              "      <th></th>\n",
              "      <th>Rating</th>\n",
              "      <th>Rev_verify</th>\n",
              "      <th>Review_Date</th>\n",
              "      <th>IC</th>\n",
              "      <th>Prod_meta</th>\n",
              "      <th>Reviewer_Name</th>\n",
              "      <th>Review</th>\n",
              "      <th>Rev_summ</th>\n",
              "      <th>Review_timestamp</th>\n",
              "      <th>Useful</th>\n",
              "      <th>Prod_img</th>\n",
              "    </tr>\n",
              "  </thead>\n",
              "  <tbody>\n",
              "    <tr>\n",
              "      <th>0</th>\n",
              "      <td>5</td>\n",
              "      <td>True</td>\n",
              "      <td>09 1, 2015</td>\n",
              "      <td>B009XD5TPQ</td>\n",
              "      <td>None</td>\n",
              "      <td>Sunny  Zoeller</td>\n",
              "      <td>Bought it for my husband. He's very happy with it</td>\n",
              "      <td>He's very happy with</td>\n",
              "      <td>1441065600</td>\n",
              "      <td>None</td>\n",
              "      <td>None</td>\n",
              "    </tr>\n",
              "  </tbody>\n",
              "</table>\n",
              "</div>"
            ],
            "text/plain": [
              "   Rating  Rev_verify Review_Date  ... Review_timestamp Useful Prod_img\n",
              "0       5        True  09 1, 2015  ...       1441065600   None     None\n",
              "\n",
              "[1 rows x 11 columns]"
            ]
          },
          "metadata": {
            "tags": []
          },
          "execution_count": 4
        }
      ]
    },
    {
      "cell_type": "code",
      "metadata": {
        "id": "s8xLC7IP6306",
        "outputId": "0aa4dbe5-78dd-4f87-fd85-d18d9e54699c",
        "colab": {
          "base_uri": "https://localhost:8080/",
          "height": 297
        }
      },
      "source": [
        "reviews.describe()"
      ],
      "execution_count": 5,
      "outputs": [
        {
          "output_type": "execute_result",
          "data": {
            "text/html": [
              "<div>\n",
              "<style scoped>\n",
              "    .dataframe tbody tr th:only-of-type {\n",
              "        vertical-align: middle;\n",
              "    }\n",
              "\n",
              "    .dataframe tbody tr th {\n",
              "        vertical-align: top;\n",
              "    }\n",
              "\n",
              "    .dataframe thead th {\n",
              "        text-align: right;\n",
              "    }\n",
              "</style>\n",
              "<table border=\"1\" class=\"dataframe\">\n",
              "  <thead>\n",
              "    <tr style=\"text-align: right;\">\n",
              "      <th></th>\n",
              "      <th>Rating</th>\n",
              "      <th>Review_timestamp</th>\n",
              "    </tr>\n",
              "  </thead>\n",
              "  <tbody>\n",
              "    <tr>\n",
              "      <th>count</th>\n",
              "      <td>760450.000000</td>\n",
              "      <td>7.604500e+05</td>\n",
              "    </tr>\n",
              "    <tr>\n",
              "      <th>mean</th>\n",
              "      <td>4.221357</td>\n",
              "      <td>1.440417e+09</td>\n",
              "    </tr>\n",
              "    <tr>\n",
              "      <th>std</th>\n",
              "      <td>1.232186</td>\n",
              "      <td>4.563251e+07</td>\n",
              "    </tr>\n",
              "    <tr>\n",
              "      <th>min</th>\n",
              "      <td>1.000000</td>\n",
              "      <td>1.035331e+09</td>\n",
              "    </tr>\n",
              "    <tr>\n",
              "      <th>25%</th>\n",
              "      <td>4.000000</td>\n",
              "      <td>1.416355e+09</td>\n",
              "    </tr>\n",
              "    <tr>\n",
              "      <th>50%</th>\n",
              "      <td>5.000000</td>\n",
              "      <td>1.444349e+09</td>\n",
              "    </tr>\n",
              "    <tr>\n",
              "      <th>75%</th>\n",
              "      <td>5.000000</td>\n",
              "      <td>1.470442e+09</td>\n",
              "    </tr>\n",
              "    <tr>\n",
              "      <th>max</th>\n",
              "      <td>5.000000</td>\n",
              "      <td>1.538438e+09</td>\n",
              "    </tr>\n",
              "  </tbody>\n",
              "</table>\n",
              "</div>"
            ],
            "text/plain": [
              "              Rating  Review_timestamp\n",
              "count  760450.000000      7.604500e+05\n",
              "mean        4.221357      1.440417e+09\n",
              "std         1.232186      4.563251e+07\n",
              "min         1.000000      1.035331e+09\n",
              "25%         4.000000      1.416355e+09\n",
              "50%         5.000000      1.444349e+09\n",
              "75%         5.000000      1.470442e+09\n",
              "max         5.000000      1.538438e+09"
            ]
          },
          "metadata": {
            "tags": []
          },
          "execution_count": 5
        }
      ]
    },
    {
      "cell_type": "code",
      "metadata": {
        "id": "KGWzIrKqAagf",
        "outputId": "beecd787-ec30-444b-e87c-2b234f94e920",
        "colab": {
          "base_uri": "https://localhost:8080/",
          "height": 323
        }
      },
      "source": [
        "reviews.info()"
      ],
      "execution_count": 6,
      "outputs": [
        {
          "output_type": "stream",
          "text": [
            "<class 'pandas.core.frame.DataFrame'>\n",
            "Int64Index: 760450 entries, 0 to 760449\n",
            "Data columns (total 11 columns):\n",
            " #   Column            Non-Null Count   Dtype \n",
            "---  ------            --------------   ----- \n",
            " 0   Rating            760450 non-null  int64 \n",
            " 1   Rev_verify        760450 non-null  bool  \n",
            " 2   Review_Date       760450 non-null  object\n",
            " 3   IC                760450 non-null  object\n",
            " 4   Prod_meta         407826 non-null  object\n",
            " 5   Reviewer_Name     760359 non-null  object\n",
            " 6   Review            759920 non-null  object\n",
            " 7   Rev_summ          760095 non-null  object\n",
            " 8   Review_timestamp  760450 non-null  int64 \n",
            " 9   Useful            62200 non-null   object\n",
            " 10  Prod_img          18194 non-null   object\n",
            "dtypes: bool(1), int64(2), object(8)\n",
            "memory usage: 64.5+ MB\n"
          ],
          "name": "stdout"
        }
      ]
    },
    {
      "cell_type": "code",
      "metadata": {
        "id": "_97zuNdkBMFg"
      },
      "source": [
        "i = reviews\n"
      ],
      "execution_count": 7,
      "outputs": []
    },
    {
      "cell_type": "markdown",
      "metadata": {
        "id": "A6UC8WPYa15w"
      },
      "source": [
        "**Distribution of number of reviews for each Item**"
      ]
    },
    {
      "cell_type": "code",
      "metadata": {
        "id": "g3dFfryyQI2W",
        "outputId": "884d39a7-faa7-4bd3-ea0e-765dc0810b4d",
        "colab": {
          "base_uri": "https://localhost:8080/",
          "height": 299
        }
      },
      "source": [
        "print('Distribution of number of reviews for each Item code:')\n",
        "i['IC'].value_counts( sort=True).plot()\n"
      ],
      "execution_count": 8,
      "outputs": [
        {
          "output_type": "stream",
          "text": [
            "Distribution of number of reviews for each Item code:\n"
          ],
          "name": "stdout"
        },
        {
          "output_type": "execute_result",
          "data": {
            "text/plain": [
              "<matplotlib.axes._subplots.AxesSubplot at 0x7fd0660f1b00>"
            ]
          },
          "metadata": {
            "tags": []
          },
          "execution_count": 8
        },
        {
          "output_type": "display_data",
          "data": {
            "image/png": "[encoded data removed]",
            "text/plain": [
              "<Figure size 432x288 with 1 Axes>"
            ]
          },
          "metadata": {
            "tags": [],
            "needs_background": "light"
          }
        }
      ]
    },
    {
      "cell_type": "code",
      "metadata": {
        "id": "vb_F-QFslX7D",
        "outputId": "e0aee872-f86a-4cee-f080-2b9c073060ce",
        "colab": {
          "base_uri": "https://localhost:8080/",
          "height": 221
        }
      },
      "source": [
        "i['IC'].value_counts( sort=True)"
      ],
      "execution_count": 9,
      "outputs": [
        {
          "output_type": "execute_result",
          "data": {
            "text/plain": [
              "B00VH88CJ0    1127\n",
              "B005NF5NTK    1106\n",
              "B019PV2I3G    1033\n",
              "B00X5RV14Y    1018\n",
              "B00P7N0320    1011\n",
              "              ... \n",
              "B00XMJCS8S       1\n",
              "B003PC3B92       1\n",
              "B00ZFRTHFC       1\n",
              "B011SVO3IY       1\n",
              "B00IN5KZXG       1\n",
              "Name: IC, Length: 48134, dtype: int64"
            ]
          },
          "metadata": {
            "tags": []
          },
          "execution_count": 9
        }
      ]
    },
    {
      "cell_type": "code",
      "metadata": {
        "id": "qegePNGqXndG",
        "outputId": "6f6a7480-e611-4705-a50f-bd80f30fb574",
        "colab": {
          "base_uri": "https://localhost:8080/",
          "height": 170
        }
      },
      "source": [
        "i['IC'].value_counts( sort=True).describe()"
      ],
      "execution_count": 10,
      "outputs": [
        {
          "output_type": "execute_result",
          "data": {
            "text/plain": [
              "count    48134.000000\n",
              "mean        15.798604\n",
              "std         34.904772\n",
              "min          1.000000\n",
              "25%          4.000000\n",
              "50%          7.000000\n",
              "75%         14.000000\n",
              "max       1127.000000\n",
              "Name: IC, dtype: float64"
            ]
          },
          "metadata": {
            "tags": []
          },
          "execution_count": 10
        }
      ]
    },
    {
      "cell_type": "markdown",
      "metadata": {
        "id": "agg5SkBHiiGv"
      },
      "source": [
        "**Most of the Items (75%) have less than 14 reviews.**\n",
        "\n",
        "---\n",
        "\n"
      ]
    },
    {
      "cell_type": "markdown",
      "metadata": {
        "id": "WV45gUIPxuXb"
      },
      "source": [
        "## **Null values detection**\n",
        "To find number of Items that do not have any review or review summary"
      ]
    },
    {
      "cell_type": "code",
      "metadata": {
        "id": "pLkcMr-Dx_rT"
      },
      "source": [
        "tempdf = i[['IC', 'Rev_summ', 'Review']]"
      ],
      "execution_count": 11,
      "outputs": []
    },
    {
      "cell_type": "markdown",
      "metadata": {
        "id": "p0HExDpY0kc-"
      },
      "source": [
        "Creating 'Nulldetect' from 'tempdf' having 4 columns: \n",
        "\n",
        "\n",
        "1.   IC\n",
        "2.   count: Number of reviews for each IC (This includes empty reviews too)\n",
        "1.   sum: Null review + null rev_summ; Thus this column can have max value of 2 when both review and summary of review is not present.\n",
        "2.   ratio: sum column normalised to count; Value of 2 : no review or rev_summ (all fields have null entry)\n",
        "\n",
        "\n"
      ]
    },
    {
      "cell_type": "code",
      "metadata": {
        "id": "y0fkhJ13x7IE",
        "outputId": "0e79bf22-e981-47f2-9e39-d6301c5786a2",
        "colab": {
          "base_uri": "https://localhost:8080/",
          "height": 407
        }
      },
      "source": [
        "nulldetect = tempdf.set_index('IC').isnull().sum(axis=1).groupby(level=0).agg(['count','sum'])\n",
        "nulldetect = pd.DataFrame(nulldetect)\n",
        "nulldetect['ratio'] = nulldetect['sum']/nulldetect['count']\n",
        "nulldetect = nulldetect.sort_values(by=['ratio'], ascending=False)\n",
        "print(\"\\'IC\\' \\'Number of reviews\\' \\'Total Null reviews and review summary\\' \\'fractio of null reviews\\'\")\n",
        "nulldetect.head(10)\n"
      ],
      "execution_count": 12,
      "outputs": [
        {
          "output_type": "stream",
          "text": [
            "'IC' 'Number of reviews' 'Total Null reviews and review summary' 'fractio of null reviews'\n"
          ],
          "name": "stdout"
        },
        {
          "output_type": "execute_result",
          "data": {
            "text/html": [
              "<div>\n",
              "<style scoped>\n",
              "    .dataframe tbody tr th:only-of-type {\n",
              "        vertical-align: middle;\n",
              "    }\n",
              "\n",
              "    .dataframe tbody tr th {\n",
              "        vertical-align: top;\n",
              "    }\n",
              "\n",
              "    .dataframe thead th {\n",
              "        text-align: right;\n",
              "    }\n",
              "</style>\n",
              "<table border=\"1\" class=\"dataframe\">\n",
              "  <thead>\n",
              "    <tr style=\"text-align: right;\">\n",
              "      <th></th>\n",
              "      <th>count</th>\n",
              "      <th>sum</th>\n",
              "      <th>ratio</th>\n",
              "    </tr>\n",
              "    <tr>\n",
              "      <th>IC</th>\n",
              "      <th></th>\n",
              "      <th></th>\n",
              "      <th></th>\n",
              "    </tr>\n",
              "  </thead>\n",
              "  <tbody>\n",
              "    <tr>\n",
              "      <th>B013UK9URK</th>\n",
              "      <td>1</td>\n",
              "      <td>2</td>\n",
              "      <td>2.000000</td>\n",
              "    </tr>\n",
              "    <tr>\n",
              "      <th>B00H8N7MU8</th>\n",
              "      <td>2</td>\n",
              "      <td>1</td>\n",
              "      <td>0.500000</td>\n",
              "    </tr>\n",
              "    <tr>\n",
              "      <th>B01EO2PONW</th>\n",
              "      <td>2</td>\n",
              "      <td>1</td>\n",
              "      <td>0.500000</td>\n",
              "    </tr>\n",
              "    <tr>\n",
              "      <th>B00AV114GW</th>\n",
              "      <td>2</td>\n",
              "      <td>1</td>\n",
              "      <td>0.500000</td>\n",
              "    </tr>\n",
              "    <tr>\n",
              "      <th>B017QCSG6E</th>\n",
              "      <td>4</td>\n",
              "      <td>2</td>\n",
              "      <td>0.500000</td>\n",
              "    </tr>\n",
              "    <tr>\n",
              "      <th>B017QWXHQ8</th>\n",
              "      <td>2</td>\n",
              "      <td>1</td>\n",
              "      <td>0.500000</td>\n",
              "    </tr>\n",
              "    <tr>\n",
              "      <th>B0195FBAP4</th>\n",
              "      <td>4</td>\n",
              "      <td>2</td>\n",
              "      <td>0.500000</td>\n",
              "    </tr>\n",
              "    <tr>\n",
              "      <th>B00FXQ40CA</th>\n",
              "      <td>2</td>\n",
              "      <td>1</td>\n",
              "      <td>0.500000</td>\n",
              "    </tr>\n",
              "    <tr>\n",
              "      <th>B00ULPH37M</th>\n",
              "      <td>3</td>\n",
              "      <td>1</td>\n",
              "      <td>0.333333</td>\n",
              "    </tr>\n",
              "    <tr>\n",
              "      <th>B01552YANU</th>\n",
              "      <td>6</td>\n",
              "      <td>2</td>\n",
              "      <td>0.333333</td>\n",
              "    </tr>\n",
              "  </tbody>\n",
              "</table>\n",
              "</div>"
            ],
            "text/plain": [
              "            count  sum     ratio\n",
              "IC                              \n",
              "B013UK9URK      1    2  2.000000\n",
              "B00H8N7MU8      2    1  0.500000\n",
              "B01EO2PONW      2    1  0.500000\n",
              "B00AV114GW      2    1  0.500000\n",
              "B017QCSG6E      4    2  0.500000\n",
              "B017QWXHQ8      2    1  0.500000\n",
              "B0195FBAP4      4    2  0.500000\n",
              "B00FXQ40CA      2    1  0.500000\n",
              "B00ULPH37M      3    1  0.333333\n",
              "B01552YANU      6    2  0.333333"
            ]
          },
          "metadata": {
            "tags": []
          },
          "execution_count": 12
        }
      ]
    },
    {
      "cell_type": "markdown",
      "metadata": {
        "id": "ETufm7Ch3fYU"
      },
      "source": [
        "**Except for \"B013UK9URK\", all IC's have atleast one review and one summary for review**\n",
        "\n",
        "\n",
        "\n",
        "---\n",
        "\n",
        "\n",
        "\n"
      ]
    },
    {
      "cell_type": "code",
      "metadata": {
        "id": "nlN9uyOAqnw2",
        "outputId": "1f350ef6-d15b-4b9a-e552-d33a32971c48",
        "colab": {
          "base_uri": "https://localhost:8080/",
          "height": 419
        }
      },
      "source": [
        "frequency = pd.DataFrame(nulldetect['ratio'].value_counts())\n",
        "frequency.sort_index(ascending=False)\n"
      ],
      "execution_count": 13,
      "outputs": [
        {
          "output_type": "execute_result",
          "data": {
            "text/html": [
              "<div>\n",
              "<style scoped>\n",
              "    .dataframe tbody tr th:only-of-type {\n",
              "        vertical-align: middle;\n",
              "    }\n",
              "\n",
              "    .dataframe tbody tr th {\n",
              "        vertical-align: top;\n",
              "    }\n",
              "\n",
              "    .dataframe thead th {\n",
              "        text-align: right;\n",
              "    }\n",
              "</style>\n",
              "<table border=\"1\" class=\"dataframe\">\n",
              "  <thead>\n",
              "    <tr style=\"text-align: right;\">\n",
              "      <th></th>\n",
              "      <th>ratio</th>\n",
              "    </tr>\n",
              "  </thead>\n",
              "  <tbody>\n",
              "    <tr>\n",
              "      <th>2.000000</th>\n",
              "      <td>1</td>\n",
              "    </tr>\n",
              "    <tr>\n",
              "      <th>0.500000</th>\n",
              "      <td>7</td>\n",
              "    </tr>\n",
              "    <tr>\n",
              "      <th>0.333333</th>\n",
              "      <td>22</td>\n",
              "    </tr>\n",
              "    <tr>\n",
              "      <th>0.285714</th>\n",
              "      <td>1</td>\n",
              "    </tr>\n",
              "    <tr>\n",
              "      <th>0.250000</th>\n",
              "      <td>25</td>\n",
              "    </tr>\n",
              "    <tr>\n",
              "      <th>...</th>\n",
              "      <td>...</td>\n",
              "    </tr>\n",
              "    <tr>\n",
              "      <th>0.001385</th>\n",
              "      <td>1</td>\n",
              "    </tr>\n",
              "    <tr>\n",
              "      <th>0.001353</th>\n",
              "      <td>1</td>\n",
              "    </tr>\n",
              "    <tr>\n",
              "      <th>0.001335</th>\n",
              "      <td>1</td>\n",
              "    </tr>\n",
              "    <tr>\n",
              "      <th>0.000904</th>\n",
              "      <td>1</td>\n",
              "    </tr>\n",
              "    <tr>\n",
              "      <th>0.000000</th>\n",
              "      <td>47334</td>\n",
              "    </tr>\n",
              "  </tbody>\n",
              "</table>\n",
              "<p>214 rows × 1 columns</p>\n",
              "</div>"
            ],
            "text/plain": [
              "          ratio\n",
              "2.000000      1\n",
              "0.500000      7\n",
              "0.333333     22\n",
              "0.285714      1\n",
              "0.250000     25\n",
              "...         ...\n",
              "0.001385      1\n",
              "0.001353      1\n",
              "0.001335      1\n",
              "0.000904      1\n",
              "0.000000  47334\n",
              "\n",
              "[214 rows x 1 columns]"
            ]
          },
          "metadata": {
            "tags": []
          },
          "execution_count": 13
        }
      ]
    },
    {
      "cell_type": "markdown",
      "metadata": {
        "id": "139ldqyb5KxR"
      },
      "source": [
        "\n",
        "---\n",
        "\n"
      ]
    },
    {
      "cell_type": "markdown",
      "metadata": {
        "id": "CFsdZI2a4dBL"
      },
      "source": [
        "# **Data selection for NLP model**"
      ]
    },
    {
      "cell_type": "code",
      "metadata": {
        "id": "dpe4VtKw6F4i",
        "outputId": "a2008305-afd9-4beb-ccae-688e763a426f",
        "colab": {
          "base_uri": "https://localhost:8080/",
          "height": 85
        }
      },
      "source": [
        "reviews.columns"
      ],
      "execution_count": 14,
      "outputs": [
        {
          "output_type": "execute_result",
          "data": {
            "text/plain": [
              "Index(['Rating', 'Rev_verify', 'Review_Date', 'IC', 'Prod_meta',\n",
              "       'Reviewer_Name', 'Review', 'Rev_summ', 'Review_timestamp', 'Useful',\n",
              "       'Prod_img'],\n",
              "      dtype='object')"
            ]
          },
          "metadata": {
            "tags": []
          },
          "execution_count": 14
        }
      ]
    },
    {
      "cell_type": "markdown",
      "metadata": {
        "id": "2y4y0I305aZY"
      },
      "source": [
        "**Idea behind column selection:**\n",
        "\n",
        "1.   **Rating:** Ratings are not important for identification of key words. \n",
        "Using ratings will create a bias towards words from either high or low rating reviews.\n",
        "2.   **Rev_verify:** Considering low amount of data per IC, Rev_verify was not selected for model. However, verified reviews could be given higher weightage than non verified.\n",
        "1.   **Useful:** More importance is given to useful reviews as they helped other customer decide.\n",
        "1.   **Review_Date:** Does not influence review unless a product had been modified.  \n",
        "2.   **Prod_meta:** Does not influence review. However, sentiment for each feature in product meta data could be found. But that is not the problem statement.\n",
        "1.   **Reviewer_Name:** Does not influence review.\n",
        "2.   **Review and Rev_summ:** Required. Trivial.\n",
        "\n",
        "1.   **Review_timestamp:** Does not influence review.\n",
        "2.   **Prod_img:** Does not influence review."
      ]
    },
    {
      "cell_type": "code",
      "metadata": {
        "id": "PP0xi6t85Qzv",
        "outputId": "f3a06d18-fc5f-4100-e19e-97a522a35715",
        "colab": {
          "base_uri": "https://localhost:8080/",
          "height": 111
        }
      },
      "source": [
        "reviews_data = reviews[['Rating', 'IC', 'Review', 'Rev_summ', 'Useful']]\n",
        "reviews_data.head(2)"
      ],
      "execution_count": 15,
      "outputs": [
        {
          "output_type": "execute_result",
          "data": {
            "text/html": [
              "<div>\n",
              "<style scoped>\n",
              "    .dataframe tbody tr th:only-of-type {\n",
              "        vertical-align: middle;\n",
              "    }\n",
              "\n",
              "    .dataframe tbody tr th {\n",
              "        vertical-align: top;\n",
              "    }\n",
              "\n",
              "    .dataframe thead th {\n",
              "        text-align: right;\n",
              "    }\n",
              "</style>\n",
              "<table border=\"1\" class=\"dataframe\">\n",
              "  <thead>\n",
              "    <tr style=\"text-align: right;\">\n",
              "      <th></th>\n",
              "      <th>Rating</th>\n",
              "      <th>IC</th>\n",
              "      <th>Review</th>\n",
              "      <th>Rev_summ</th>\n",
              "      <th>Useful</th>\n",
              "    </tr>\n",
              "  </thead>\n",
              "  <tbody>\n",
              "    <tr>\n",
              "      <th>0</th>\n",
              "      <td>5</td>\n",
              "      <td>B009XD5TPQ</td>\n",
              "      <td>Bought it for my husband. He's very happy with it</td>\n",
              "      <td>He's very happy with</td>\n",
              "      <td>None</td>\n",
              "    </tr>\n",
              "    <tr>\n",
              "      <th>1</th>\n",
              "      <td>5</td>\n",
              "      <td>B016MF3P3K</td>\n",
              "      <td>Great screen protector.  Doesn't even seem as ...</td>\n",
              "      <td>Five Stars</td>\n",
              "      <td>None</td>\n",
              "    </tr>\n",
              "  </tbody>\n",
              "</table>\n",
              "</div>"
            ],
            "text/plain": [
              "   Rating          IC  ...              Rev_summ Useful\n",
              "0       5  B009XD5TPQ  ...  He's very happy with   None\n",
              "1       5  B016MF3P3K  ...            Five Stars   None\n",
              "\n",
              "[2 rows x 5 columns]"
            ]
          },
          "metadata": {
            "tags": []
          },
          "execution_count": 15
        }
      ]
    },
    {
      "cell_type": "code",
      "metadata": {
        "id": "GuEZkK8mEHcu"
      },
      "source": [
        "#\"Useful\" column has \"None\" values. Thus we replace them by 0.\n",
        "#reviews_data['Useful'] = reviews_data['Useful'].fillna(0)\n",
        "#reviews_data.head(2)"
      ],
      "execution_count": 16,
      "outputs": []
    },
    {
      "cell_type": "code",
      "metadata": {
        "id": "FywxaU_rzYh7",
        "outputId": "49f70fa6-628c-4790-c2cd-7082f5bd99f9",
        "colab": {
          "base_uri": "https://localhost:8080/",
          "height": 119
        }
      },
      "source": [
        "reviews_data['Useful'] = reviews_data['Useful'].replace(',','',regex=True)\n"
      ],
      "execution_count": 17,
      "outputs": [
        {
          "output_type": "stream",
          "text": [
            "/usr/local/lib/python3.6/dist-packages/ipykernel_launcher.py:1: SettingWithCopyWarning: \n",
            "A value is trying to be set on a copy of a slice from a DataFrame.\n",
            "Try using .loc[row_indexer,col_indexer] = value instead\n",
            "\n",
            "See the caveats in the documentation: https://pandas.pydata.org/pandas-docs/stable/user_guide/indexing.html#returning-a-view-versus-a-copy\n",
            "  \"\"\"Entry point for launching an IPython kernel.\n"
          ],
          "name": "stderr"
        }
      ]
    },
    {
      "cell_type": "code",
      "metadata": {
        "id": "r0xiy2zXuF3U",
        "outputId": "1f63ab87-55f1-426d-e7cc-cfb565c7ec2b",
        "colab": {
          "base_uri": "https://localhost:8080/",
          "height": 221
        }
      },
      "source": [
        "reviews_data['Useful'] = reviews_data['Useful'].fillna(0)\n",
        "reviews_data['Useful'] = reviews_data['Useful'].astype(int)"
      ],
      "execution_count": 18,
      "outputs": [
        {
          "output_type": "stream",
          "text": [
            "/usr/local/lib/python3.6/dist-packages/ipykernel_launcher.py:1: SettingWithCopyWarning: \n",
            "A value is trying to be set on a copy of a slice from a DataFrame.\n",
            "Try using .loc[row_indexer,col_indexer] = value instead\n",
            "\n",
            "See the caveats in the documentation: https://pandas.pydata.org/pandas-docs/stable/user_guide/indexing.html#returning-a-view-versus-a-copy\n",
            "  \"\"\"Entry point for launching an IPython kernel.\n",
            "/usr/local/lib/python3.6/dist-packages/ipykernel_launcher.py:2: SettingWithCopyWarning: \n",
            "A value is trying to be set on a copy of a slice from a DataFrame.\n",
            "Try using .loc[row_indexer,col_indexer] = value instead\n",
            "\n",
            "See the caveats in the documentation: https://pandas.pydata.org/pandas-docs/stable/user_guide/indexing.html#returning-a-view-versus-a-copy\n",
            "  \n"
          ],
          "name": "stderr"
        }
      ]
    },
    {
      "cell_type": "code",
      "metadata": {
        "id": "4ag_gr5xydPq",
        "outputId": "63535696-461a-4662-ebe5-af2021999fa5",
        "colab": {
          "base_uri": "https://localhost:8080/",
          "height": 170
        }
      },
      "source": [
        "\n",
        "reviews_data['Useful'].describe()"
      ],
      "execution_count": 19,
      "outputs": [
        {
          "output_type": "execute_result",
          "data": {
            "text/plain": [
              "count    760450.000000\n",
              "mean          0.777457\n",
              "std          10.054148\n",
              "min           0.000000\n",
              "25%           0.000000\n",
              "50%           0.000000\n",
              "75%           0.000000\n",
              "max        1737.000000\n",
              "Name: Useful, dtype: float64"
            ]
          },
          "metadata": {
            "tags": []
          },
          "execution_count": 19
        }
      ]
    },
    {
      "cell_type": "code",
      "metadata": {
        "id": "gnZZcMHz1-Sv"
      },
      "source": [
        "k = reviews_data['Useful']"
      ],
      "execution_count": 20,
      "outputs": []
    },
    {
      "cell_type": "markdown",
      "metadata": {
        "id": "wveSSYvOhzT8"
      },
      "source": [
        "# **Model**"
      ]
    },
    {
      "cell_type": "markdown",
      "metadata": {
        "id": "vAZxIg18tsRu"
      },
      "source": [
        "**Using \"useful\" column:**\n",
        "\n",
        "Useful score is important as it tells how useful the information in that particular review is.\n",
        "\n",
        "---\n",
        "\n",
        "\n",
        "\n",
        "1.   **weight of a word review** = (useful score)* string (i.e. multiplying string for useful score times); However, this increases load on system and having very high weight doesnt help as the difference is good enough after useful score = 6. Thus Useful scores more than 6 will be replaced with 6.\n",
        "\n",
        "\n",
        "\n",
        "> However, to use this we need a non zero base value otherwise all reviews that did not get upvotes will be ignored.\n",
        "\n",
        "\n",
        "2.   Thus 1 will be added to the useful column.\n",
        "\n",
        "\n",
        "\n",
        "\n",
        "---\n",
        "\n"
      ]
    },
    {
      "cell_type": "code",
      "metadata": {
        "id": "sX9S404lAcmC",
        "outputId": "163e06e4-1365-407a-8694-06b210132f05",
        "colab": {
          "base_uri": "https://localhost:8080/",
          "height": 187
        }
      },
      "source": [
        "reviews_data['Useful'][reviews_data['Useful'] > 6] = 6"
      ],
      "execution_count": 21,
      "outputs": [
        {
          "output_type": "stream",
          "text": [
            "/usr/local/lib/python3.6/dist-packages/ipykernel_launcher.py:1: SettingWithCopyWarning: \n",
            "A value is trying to be set on a copy of a slice from a DataFrame\n",
            "\n",
            "See the caveats in the documentation: https://pandas.pydata.org/pandas-docs/stable/user_guide/indexing.html#returning-a-view-versus-a-copy\n",
            "  \"\"\"Entry point for launching an IPython kernel.\n",
            "/usr/local/lib/python3.6/dist-packages/pandas/core/series.py:1020: SettingWithCopyWarning: \n",
            "A value is trying to be set on a copy of a slice from a DataFrame\n",
            "\n",
            "See the caveats in the documentation: https://pandas.pydata.org/pandas-docs/stable/user_guide/indexing.html#returning-a-view-versus-a-copy\n",
            "  self._where(~key, value, inplace=True)\n"
          ],
          "name": "stderr"
        }
      ]
    },
    {
      "cell_type": "code",
      "metadata": {
        "id": "x27lRwj0T9aP",
        "outputId": "b2eaf0b0-7b36-40d3-8031-7905d5b7fc04",
        "colab": {
          "base_uri": "https://localhost:8080/",
          "height": 119
        }
      },
      "source": [
        "reviews_data['Useful'] = reviews_data['Useful'] + 1"
      ],
      "execution_count": 22,
      "outputs": [
        {
          "output_type": "stream",
          "text": [
            "/usr/local/lib/python3.6/dist-packages/ipykernel_launcher.py:1: SettingWithCopyWarning: \n",
            "A value is trying to be set on a copy of a slice from a DataFrame.\n",
            "Try using .loc[row_indexer,col_indexer] = value instead\n",
            "\n",
            "See the caveats in the documentation: https://pandas.pydata.org/pandas-docs/stable/user_guide/indexing.html#returning-a-view-versus-a-copy\n",
            "  \"\"\"Entry point for launching an IPython kernel.\n"
          ],
          "name": "stderr"
        }
      ]
    },
    {
      "cell_type": "code",
      "metadata": {
        "id": "oYvN0whbId6V",
        "outputId": "26670cde-6859-485a-f2a8-d4e80aa5c14d",
        "colab": {
          "base_uri": "https://localhost:8080/",
          "height": 289
        }
      },
      "source": [
        "reviews_data['Review'][reviews_data['Review'] == ' '] = 'None found for this IC'\n",
        "reviews_data['Rev_summ'][reviews_data['Rev_summ'] == ' '] = 'None found for this IC'\n",
        "reviews_data['Review'].isnull().sum()"
      ],
      "execution_count": 23,
      "outputs": [
        {
          "output_type": "stream",
          "text": [
            "/usr/local/lib/python3.6/dist-packages/ipykernel_launcher.py:1: SettingWithCopyWarning: \n",
            "A value is trying to be set on a copy of a slice from a DataFrame\n",
            "\n",
            "See the caveats in the documentation: https://pandas.pydata.org/pandas-docs/stable/user_guide/indexing.html#returning-a-view-versus-a-copy\n",
            "  \"\"\"Entry point for launching an IPython kernel.\n",
            "/usr/local/lib/python3.6/dist-packages/pandas/core/series.py:1020: SettingWithCopyWarning: \n",
            "A value is trying to be set on a copy of a slice from a DataFrame\n",
            "\n",
            "See the caveats in the documentation: https://pandas.pydata.org/pandas-docs/stable/user_guide/indexing.html#returning-a-view-versus-a-copy\n",
            "  self._where(~key, value, inplace=True)\n",
            "/usr/local/lib/python3.6/dist-packages/ipykernel_launcher.py:2: SettingWithCopyWarning: \n",
            "A value is trying to be set on a copy of a slice from a DataFrame\n",
            "\n",
            "See the caveats in the documentation: https://pandas.pydata.org/pandas-docs/stable/user_guide/indexing.html#returning-a-view-versus-a-copy\n",
            "  \n"
          ],
          "name": "stderr"
        },
        {
          "output_type": "execute_result",
          "data": {
            "text/plain": [
              "530"
            ]
          },
          "metadata": {
            "tags": []
          },
          "execution_count": 23
        }
      ]
    },
    {
      "cell_type": "code",
      "metadata": {
        "id": "5E6Q10c6Ln4z",
        "outputId": "cf5d27dc-f71b-46d3-e66b-792002124351",
        "colab": {
          "base_uri": "https://localhost:8080/",
          "height": 34
        }
      },
      "source": [
        "reviews_data['Review'][reviews_data['Review'] == 'None found for this IC'].sum()"
      ],
      "execution_count": 24,
      "outputs": [
        {
          "output_type": "execute_result",
          "data": {
            "text/plain": [
              "0"
            ]
          },
          "metadata": {
            "tags": []
          },
          "execution_count": 24
        }
      ]
    },
    {
      "cell_type": "code",
      "metadata": {
        "id": "K4hO_pejuatX"
      },
      "source": [
        "dictionary = dict(tuple(reviews_data.groupby('IC')))\n"
      ],
      "execution_count": 25,
      "outputs": []
    },
    {
      "cell_type": "code",
      "metadata": {
        "id": "MoEn2spjuvf6"
      },
      "source": [
        ""
      ],
      "execution_count": 25,
      "outputs": []
    },
    {
      "cell_type": "code",
      "metadata": {
        "id": "1Zu4nA3Oh3bR",
        "outputId": "cbc7ec14-70ba-4c55-dbaa-5fda24a6a6c7",
        "colab": {
          "base_uri": "https://localhost:8080/",
          "height": 136
        }
      },
      "source": [
        "from gensim.summarization import keywords\n",
        "import nltk\n",
        "nltk.download('averaged_perceptron_tagger')\n",
        "nltk.download('wordnet')"
      ],
      "execution_count": 26,
      "outputs": [
        {
          "output_type": "stream",
          "text": [
            "[nltk_data] Downloading package averaged_perceptron_tagger to\n",
            "[nltk_data]     /root/nltk_data...\n",
            "[nltk_data]   Package averaged_perceptron_tagger is already up-to-\n",
            "[nltk_data]       date!\n",
            "[nltk_data] Downloading package wordnet to /root/nltk_data...\n",
            "[nltk_data]   Package wordnet is already up-to-date!\n"
          ],
          "name": "stdout"
        },
        {
          "output_type": "execute_result",
          "data": {
            "text/plain": [
              "True"
            ]
          },
          "metadata": {
            "tags": []
          },
          "execution_count": 26
        }
      ]
    },
    {
      "cell_type": "code",
      "metadata": {
        "id": "nu1HFTV9iDJy"
      },
      "source": [
        "from nltk.corpus import wordnet\n",
        "import string\n",
        "from nltk import pos_tag\n",
        "from nltk.corpus import stopwords\n",
        "from nltk.tokenize import WhitespaceTokenizer\n",
        "from nltk.stem import WordNetLemmatizer\n",
        "\n",
        "def get_wordnet_pos(pos_tag):\n",
        "    if pos_tag.startswith('J'):\n",
        "        return wordnet.ADJ\n",
        "    elif pos_tag.startswith('V'):\n",
        "        return wordnet.VERB\n",
        "    elif pos_tag.startswith('N'):\n",
        "        return wordnet.NOUN\n",
        "    elif pos_tag.startswith('R'):\n",
        "        return wordnet.ADV\n",
        "    else:\n",
        "        return wordnet.NOUN\n",
        "\n",
        "def lematise(text):\n",
        "    pos_tags = pos_tag(text)\n",
        "    # lemmatize text\n",
        "    text = [WordNetLemmatizer().lemmatize(t[0], get_wordnet_pos(t[1])) for t in pos_tags]\n",
        "    return(set(text))"
      ],
      "execution_count": 27,
      "outputs": []
    },
    {
      "cell_type": "code",
      "metadata": {
        "id": "YCZ0sXSviIHT"
      },
      "source": [
        "data = {}\n",
        "def final_file(IC):\n",
        "\n",
        "  dictionary[IC]['Review'] = (dictionary[IC]['Review'] + \" \" )*(dictionary[IC]['Useful'])\n",
        "  dictionary[IC]['Rev_summ'] = (dictionary[IC]['Rev_summ'] + \" \" )*(dictionary[IC]['Useful'])\n",
        "  \n",
        "  #combine all reviews and review summary for each Item code\n",
        "  suma = \" \"\n",
        "  for s in dictionary[IC]['Review']:\n",
        "    print(s,'gh',len(s))\n",
        "    s = str(s)\n",
        "    if len(s) < 5:\n",
        "      s = 'None found for this IC'\n",
        "    \n",
        "    suma = suma + \" \" + s\n",
        "  for s in dictionary[IC]['Rev_summ']:\n",
        "    s = str(s)\n",
        "    if len(s) < 5:\n",
        "      s = 'None found for this IC'\n",
        "    \n",
        "    suma = suma + \" \" + s\n",
        "    print('suma:',suma)\n",
        "  #Generate final dataframe\n",
        "  \n",
        "  data[IC] = [dictionary[IC]['Rating'].max(), dictionary[IC]['Rating'].mean(), dictionary[IC]['Rating'].min(), [lematise(keywords(suma).split('\\n'))]]\n",
        "\n",
        "  return data"
      ],
      "execution_count": 48,
      "outputs": []
    },
    {
      "cell_type": "code",
      "metadata": {
        "id": "Fb3PKsXnndwc",
        "outputId": "896826e8-a55f-47c8-b0a3-9b18bc53788d",
        "colab": {
          "base_uri": "https://localhost:8080/",
          "height": 1000
        }
      },
      "source": [
        "listIC = list(set(reviews_data['IC']))\n",
        "len(listIC)\n",
        "IC = listIC\n",
        "i = 0\n",
        "for IC in IC:\n",
        "  i = i+1\n",
        "  print(IC, i)\n",
        "  data = final_file(IC)"
      ],
      "execution_count": 44,
      "outputs": [
        {
          "output_type": "stream",
          "text": [
            "B00HZ20MEU 1\n",
            "B00XBBMU9O 2\n",
            "B00INNQW6W 3\n",
            "B01514RFEI 4\n",
            "B00K2BZGFQ 5\n",
            "B00DVNBP70 6\n",
            "B016LH6FT0 7\n",
            "B00FP1Q3ZU 8\n",
            "B004KMLXEG 9\n",
            "B019MOKLYY 10\n",
            "B00RP4DW7M 11\n",
            "B004UU9W78 12\n",
            "B00M14SQEA 13\n",
            "B00V5M0VV0 14\n",
            "B00J9L2Q3K 15\n",
            "B01346IS0K 16\n",
            "B00OXEA6X0 17\n",
            "B016X2IVMM 18\n",
            "B013HJZ5BO 19\n",
            "B00AQ30KLK 20\n",
            "B0056C77RQ 21\n",
            "B016EW30A4 22\n",
            "B00F9RZXUG 23\n",
            "B00MX4PDDK 24\n",
            "B0121G8BO2 25\n",
            "B00GD6Q7MU 26\n",
            "B01AI2T44M 27\n",
            "B00JWNK038 28\n",
            "B0193XB5OY 29\n",
            "B00PD6STU4 30\n",
            "B00S201WUM 31\n",
            "B00NTME78M 32\n",
            "B00DZU0SPO 33\n",
            "9678315173 34\n",
            "B004UBC4J0 35\n",
            "B00EAIZ8T6 36\n",
            "B011BS8R5O 37\n",
            "B00751O5OE 38\n",
            "B00AVZGIC8 39\n",
            "B00157ASTU 40\n",
            "B01HHUWRTM 41\n",
            "B00B2G8E0E 42\n",
            "B00NI0BPTE 43\n",
            "B005NRJ4X4 44\n",
            "B01DOXJFDW 45\n",
            "B00PKEJNJK 46\n",
            "B001Q3LRT8 47\n",
            "B00ORSUMI6 48\n",
            "B01DIKP40Y 49\n",
            "B00OQBH5SY 50\n",
            "B00BD4BLM8 51\n",
            "B017UILJB8 52\n",
            "B008D66G8I 53\n",
            "B01F4WHY2U 54\n",
            "B0179ZQF5M 55\n",
            "B017CGJKSC 56\n",
            "B0198U4LQG 57\n",
            "B00A1UT32A 58\n",
            "B001CMG26G 59\n",
            "B00LD6M3NM 60\n",
            "B00MX4O9DU 61\n",
            "B019VWTD9Q 62\n",
            "B00MUQJVZ2 63\n",
            "B0187S3BY8 64\n",
            "B01DLBZT32 65\n",
            "B00D5DZYSW 66\n",
            "B00HJG0Y4K 67\n",
            "B00EZHZ77A 68\n",
            "B00KWR8PJ4 69\n",
            "B018WFQLCA 70\n",
            "B019OGX6EW 71\n",
            "B011O1SFXM 72\n",
            "B00GGY85R4 73\n",
            "B01EFLQF26 74\n",
            "B00ACE4IRA 75\n",
            "B00CRAR2GQ 76\n",
            "B00C4A7JMQ 77\n",
            "B00YO6PF9W 78\n",
            "B007AK2AZQ 79\n",
            "B00C3DH0B4 80\n",
            "B00EL4OUB6 81\n",
            "B01A5HIJSC 82\n",
            "B013D32WVA 83\n",
            "B0043622O4 84\n",
            "B01H0YDH1C 85\n",
            "B017J9Y0PA 86\n",
            "B01DB6SV9G 87\n",
            "B00B1RU5E2 88\n",
            "B00DI2CE1A 89\n",
            "B01E3UJSF0 90\n",
            "B015FL8NYS 91\n",
            "B00NSK4WMG 92\n",
            "B00XI92SOG 93\n",
            "B006A0P068 94\n",
            "B00FYO23O8 95\n",
            "B00YNSF8ZW 96\n",
            "B0197PADWI 97\n",
            "B010R0PZG6 98\n",
            "B00BM1JLMY 99\n",
            "B00M4PM7P0 100\n",
            "B01ERUZGBQ 101\n",
            "B01CQCLRRE 102\n",
            "B00TKWEW76 103\n",
            "B00J1G5WRU 104\n",
            "B00YG258BE 105\n",
            "B0166BKOGG 106\n",
            "B017QWXHQ8 107\n",
            "B00914WGPI 108\n",
            "B01EN1O9C6 109\n",
            "B006JS01MO 110\n",
            "B00LSX4WZ2 111\n",
            "B004DBAT2Q 112\n",
            "B01CZTZCQU 113\n",
            "B017H379AG 114\n",
            "B009E028HA 115\n",
            "B00V9PA30M 116\n",
            "B01EXFP9UI 117\n",
            "B0183JZ996 118\n",
            "B01HIRQLNW 119\n",
            "B00GI8RRZE 120\n"
          ],
          "name": "stdout"
        },
        {
          "output_type": "error",
          "ename": "IndexError",
          "evalue": "ignored",
          "traceback": [
            "\u001b[0;31m---------------------------------------------------------------------------\u001b[0m",
            "\u001b[0;31mIndexError\u001b[0m                                Traceback (most recent call last)",
            "\u001b[0;32m<ipython-input-44-4a4a8bf77e1b>\u001b[0m in \u001b[0;36m<module>\u001b[0;34m()\u001b[0m\n\u001b[1;32m      6\u001b[0m   \u001b[0mi\u001b[0m \u001b[0;34m=\u001b[0m \u001b[0mi\u001b[0m\u001b[0;34m+\u001b[0m\u001b[0;36m1\u001b[0m\u001b[0;34m\u001b[0m\u001b[0;34m\u001b[0m\u001b[0m\n\u001b[1;32m      7\u001b[0m   \u001b[0mprint\u001b[0m\u001b[0;34m(\u001b[0m\u001b[0mIC\u001b[0m\u001b[0;34m,\u001b[0m \u001b[0mi\u001b[0m\u001b[0;34m)\u001b[0m\u001b[0;34m\u001b[0m\u001b[0;34m\u001b[0m\u001b[0m\n\u001b[0;32m----> 8\u001b[0;31m   \u001b[0mdata\u001b[0m \u001b[0;34m=\u001b[0m \u001b[0mfinal_file\u001b[0m\u001b[0;34m(\u001b[0m\u001b[0mIC\u001b[0m\u001b[0;34m)\u001b[0m\u001b[0;34m\u001b[0m\u001b[0;34m\u001b[0m\u001b[0m\n\u001b[0m",
            "\u001b[0;32m<ipython-input-43-e0360f41c3c8>\u001b[0m in \u001b[0;36mfinal_file\u001b[0;34m(IC)\u001b[0m\n\u001b[1;32m     23\u001b[0m   \u001b[0;31m#Generate final dataframe\u001b[0m\u001b[0;34m\u001b[0m\u001b[0;34m\u001b[0m\u001b[0;34m\u001b[0m\u001b[0m\n\u001b[1;32m     24\u001b[0m \u001b[0;34m\u001b[0m\u001b[0m\n\u001b[0;32m---> 25\u001b[0;31m   \u001b[0mdata\u001b[0m\u001b[0;34m[\u001b[0m\u001b[0mIC\u001b[0m\u001b[0;34m]\u001b[0m \u001b[0;34m=\u001b[0m \u001b[0;34m[\u001b[0m\u001b[0mdictionary\u001b[0m\u001b[0;34m[\u001b[0m\u001b[0mIC\u001b[0m\u001b[0;34m]\u001b[0m\u001b[0;34m[\u001b[0m\u001b[0;34m'Rating'\u001b[0m\u001b[0;34m]\u001b[0m\u001b[0;34m.\u001b[0m\u001b[0mmax\u001b[0m\u001b[0;34m(\u001b[0m\u001b[0;34m)\u001b[0m\u001b[0;34m,\u001b[0m \u001b[0mdictionary\u001b[0m\u001b[0;34m[\u001b[0m\u001b[0mIC\u001b[0m\u001b[0;34m]\u001b[0m\u001b[0;34m[\u001b[0m\u001b[0;34m'Rating'\u001b[0m\u001b[0;34m]\u001b[0m\u001b[0;34m.\u001b[0m\u001b[0mmean\u001b[0m\u001b[0;34m(\u001b[0m\u001b[0;34m)\u001b[0m\u001b[0;34m,\u001b[0m \u001b[0mdictionary\u001b[0m\u001b[0;34m[\u001b[0m\u001b[0mIC\u001b[0m\u001b[0;34m]\u001b[0m\u001b[0;34m[\u001b[0m\u001b[0;34m'Rating'\u001b[0m\u001b[0;34m]\u001b[0m\u001b[0;34m.\u001b[0m\u001b[0mmin\u001b[0m\u001b[0;34m(\u001b[0m\u001b[0;34m)\u001b[0m\u001b[0;34m,\u001b[0m \u001b[0;34m[\u001b[0m\u001b[0mlematise\u001b[0m\u001b[0;34m(\u001b[0m\u001b[0mkeywords\u001b[0m\u001b[0;34m(\u001b[0m\u001b[0msuma\u001b[0m\u001b[0;34m)\u001b[0m\u001b[0;34m.\u001b[0m\u001b[0msplit\u001b[0m\u001b[0;34m(\u001b[0m\u001b[0;34m'\\n'\u001b[0m\u001b[0;34m)\u001b[0m\u001b[0;34m)\u001b[0m\u001b[0;34m]\u001b[0m\u001b[0;34m]\u001b[0m\u001b[0;34m\u001b[0m\u001b[0;34m\u001b[0m\u001b[0m\n\u001b[0m\u001b[1;32m     26\u001b[0m \u001b[0;34m\u001b[0m\u001b[0m\n\u001b[1;32m     27\u001b[0m   \u001b[0;32mreturn\u001b[0m \u001b[0mdata\u001b[0m\u001b[0;34m\u001b[0m\u001b[0;34m\u001b[0m\u001b[0m\n",
            "\u001b[0;32m<ipython-input-27-4deb3fad10f9>\u001b[0m in \u001b[0;36mlematise\u001b[0;34m(text)\u001b[0m\n\u001b[1;32m     19\u001b[0m \u001b[0;34m\u001b[0m\u001b[0m\n\u001b[1;32m     20\u001b[0m \u001b[0;32mdef\u001b[0m \u001b[0mlematise\u001b[0m\u001b[0;34m(\u001b[0m\u001b[0mtext\u001b[0m\u001b[0;34m)\u001b[0m\u001b[0;34m:\u001b[0m\u001b[0;34m\u001b[0m\u001b[0;34m\u001b[0m\u001b[0m\n\u001b[0;32m---> 21\u001b[0;31m     \u001b[0mpos_tags\u001b[0m \u001b[0;34m=\u001b[0m \u001b[0mpos_tag\u001b[0m\u001b[0;34m(\u001b[0m\u001b[0mtext\u001b[0m\u001b[0;34m)\u001b[0m\u001b[0;34m\u001b[0m\u001b[0;34m\u001b[0m\u001b[0m\n\u001b[0m\u001b[1;32m     22\u001b[0m     \u001b[0;31m# lemmatize text\u001b[0m\u001b[0;34m\u001b[0m\u001b[0;34m\u001b[0m\u001b[0;34m\u001b[0m\u001b[0m\n\u001b[1;32m     23\u001b[0m     \u001b[0mtext\u001b[0m \u001b[0;34m=\u001b[0m \u001b[0;34m[\u001b[0m\u001b[0mWordNetLemmatizer\u001b[0m\u001b[0;34m(\u001b[0m\u001b[0;34m)\u001b[0m\u001b[0;34m.\u001b[0m\u001b[0mlemmatize\u001b[0m\u001b[0;34m(\u001b[0m\u001b[0mt\u001b[0m\u001b[0;34m[\u001b[0m\u001b[0;36m0\u001b[0m\u001b[0;34m]\u001b[0m\u001b[0;34m,\u001b[0m \u001b[0mget_wordnet_pos\u001b[0m\u001b[0;34m(\u001b[0m\u001b[0mt\u001b[0m\u001b[0;34m[\u001b[0m\u001b[0;36m1\u001b[0m\u001b[0;34m]\u001b[0m\u001b[0;34m)\u001b[0m\u001b[0;34m)\u001b[0m \u001b[0;32mfor\u001b[0m \u001b[0mt\u001b[0m \u001b[0;32min\u001b[0m \u001b[0mpos_tags\u001b[0m\u001b[0;34m]\u001b[0m\u001b[0;34m\u001b[0m\u001b[0;34m\u001b[0m\u001b[0m\n",
            "\u001b[0;32m/usr/local/lib/python3.6/dist-packages/nltk/tag/__init__.py\u001b[0m in \u001b[0;36mpos_tag\u001b[0;34m(tokens, tagset, lang)\u001b[0m\n\u001b[1;32m    132\u001b[0m     \"\"\"\n\u001b[1;32m    133\u001b[0m     \u001b[0mtagger\u001b[0m \u001b[0;34m=\u001b[0m \u001b[0m_get_tagger\u001b[0m\u001b[0;34m(\u001b[0m\u001b[0mlang\u001b[0m\u001b[0;34m)\u001b[0m\u001b[0;34m\u001b[0m\u001b[0;34m\u001b[0m\u001b[0m\n\u001b[0;32m--> 134\u001b[0;31m     \u001b[0;32mreturn\u001b[0m \u001b[0m_pos_tag\u001b[0m\u001b[0;34m(\u001b[0m\u001b[0mtokens\u001b[0m\u001b[0;34m,\u001b[0m \u001b[0mtagset\u001b[0m\u001b[0;34m,\u001b[0m \u001b[0mtagger\u001b[0m\u001b[0;34m)\u001b[0m\u001b[0;34m\u001b[0m\u001b[0;34m\u001b[0m\u001b[0m\n\u001b[0m\u001b[1;32m    135\u001b[0m \u001b[0;34m\u001b[0m\u001b[0m\n\u001b[1;32m    136\u001b[0m \u001b[0;34m\u001b[0m\u001b[0m\n",
            "\u001b[0;32m/usr/local/lib/python3.6/dist-packages/nltk/tag/__init__.py\u001b[0m in \u001b[0;36m_pos_tag\u001b[0;34m(tokens, tagset, tagger)\u001b[0m\n\u001b[1;32m    100\u001b[0m \u001b[0;34m\u001b[0m\u001b[0m\n\u001b[1;32m    101\u001b[0m \u001b[0;32mdef\u001b[0m \u001b[0m_pos_tag\u001b[0m\u001b[0;34m(\u001b[0m\u001b[0mtokens\u001b[0m\u001b[0;34m,\u001b[0m \u001b[0mtagset\u001b[0m\u001b[0;34m,\u001b[0m \u001b[0mtagger\u001b[0m\u001b[0;34m)\u001b[0m\u001b[0;34m:\u001b[0m\u001b[0;34m\u001b[0m\u001b[0;34m\u001b[0m\u001b[0m\n\u001b[0;32m--> 102\u001b[0;31m     \u001b[0mtagged_tokens\u001b[0m \u001b[0;34m=\u001b[0m \u001b[0mtagger\u001b[0m\u001b[0;34m.\u001b[0m\u001b[0mtag\u001b[0m\u001b[0;34m(\u001b[0m\u001b[0mtokens\u001b[0m\u001b[0;34m)\u001b[0m\u001b[0;34m\u001b[0m\u001b[0;34m\u001b[0m\u001b[0m\n\u001b[0m\u001b[1;32m    103\u001b[0m     \u001b[0;32mif\u001b[0m \u001b[0mtagset\u001b[0m\u001b[0;34m:\u001b[0m\u001b[0;34m\u001b[0m\u001b[0;34m\u001b[0m\u001b[0m\n\u001b[1;32m    104\u001b[0m         \u001b[0mtagged_tokens\u001b[0m \u001b[0;34m=\u001b[0m \u001b[0;34m[\u001b[0m\u001b[0;34m(\u001b[0m\u001b[0mtoken\u001b[0m\u001b[0;34m,\u001b[0m \u001b[0mmap_tag\u001b[0m\u001b[0;34m(\u001b[0m\u001b[0;34m'en-ptb'\u001b[0m\u001b[0;34m,\u001b[0m \u001b[0mtagset\u001b[0m\u001b[0;34m,\u001b[0m \u001b[0mtag\u001b[0m\u001b[0;34m)\u001b[0m\u001b[0;34m)\u001b[0m \u001b[0;32mfor\u001b[0m \u001b[0;34m(\u001b[0m\u001b[0mtoken\u001b[0m\u001b[0;34m,\u001b[0m \u001b[0mtag\u001b[0m\u001b[0;34m)\u001b[0m \u001b[0;32min\u001b[0m \u001b[0mtagged_tokens\u001b[0m\u001b[0;34m]\u001b[0m\u001b[0;34m\u001b[0m\u001b[0;34m\u001b[0m\u001b[0m\n",
            "\u001b[0;32m/usr/local/lib/python3.6/dist-packages/nltk/tag/perceptron.py\u001b[0m in \u001b[0;36mtag\u001b[0;34m(self, tokens)\u001b[0m\n\u001b[1;32m    150\u001b[0m         \u001b[0moutput\u001b[0m \u001b[0;34m=\u001b[0m \u001b[0;34m[\u001b[0m\u001b[0;34m]\u001b[0m\u001b[0;34m\u001b[0m\u001b[0;34m\u001b[0m\u001b[0m\n\u001b[1;32m    151\u001b[0m \u001b[0;34m\u001b[0m\u001b[0m\n\u001b[0;32m--> 152\u001b[0;31m         \u001b[0mcontext\u001b[0m \u001b[0;34m=\u001b[0m \u001b[0mself\u001b[0m\u001b[0;34m.\u001b[0m\u001b[0mSTART\u001b[0m \u001b[0;34m+\u001b[0m \u001b[0;34m[\u001b[0m\u001b[0mself\u001b[0m\u001b[0;34m.\u001b[0m\u001b[0mnormalize\u001b[0m\u001b[0;34m(\u001b[0m\u001b[0mw\u001b[0m\u001b[0;34m)\u001b[0m \u001b[0;32mfor\u001b[0m \u001b[0mw\u001b[0m \u001b[0;32min\u001b[0m \u001b[0mtokens\u001b[0m\u001b[0;34m]\u001b[0m \u001b[0;34m+\u001b[0m \u001b[0mself\u001b[0m\u001b[0;34m.\u001b[0m\u001b[0mEND\u001b[0m\u001b[0;34m\u001b[0m\u001b[0;34m\u001b[0m\u001b[0m\n\u001b[0m\u001b[1;32m    153\u001b[0m         \u001b[0;32mfor\u001b[0m \u001b[0mi\u001b[0m\u001b[0;34m,\u001b[0m \u001b[0mword\u001b[0m \u001b[0;32min\u001b[0m \u001b[0menumerate\u001b[0m\u001b[0;34m(\u001b[0m\u001b[0mtokens\u001b[0m\u001b[0;34m)\u001b[0m\u001b[0;34m:\u001b[0m\u001b[0;34m\u001b[0m\u001b[0;34m\u001b[0m\u001b[0m\n\u001b[1;32m    154\u001b[0m             \u001b[0mtag\u001b[0m \u001b[0;34m=\u001b[0m \u001b[0mself\u001b[0m\u001b[0;34m.\u001b[0m\u001b[0mtagdict\u001b[0m\u001b[0;34m.\u001b[0m\u001b[0mget\u001b[0m\u001b[0;34m(\u001b[0m\u001b[0mword\u001b[0m\u001b[0;34m)\u001b[0m\u001b[0;34m\u001b[0m\u001b[0;34m\u001b[0m\u001b[0m\n",
            "\u001b[0;32m/usr/local/lib/python3.6/dist-packages/nltk/tag/perceptron.py\u001b[0m in \u001b[0;36m<listcomp>\u001b[0;34m(.0)\u001b[0m\n\u001b[1;32m    150\u001b[0m         \u001b[0moutput\u001b[0m \u001b[0;34m=\u001b[0m \u001b[0;34m[\u001b[0m\u001b[0;34m]\u001b[0m\u001b[0;34m\u001b[0m\u001b[0;34m\u001b[0m\u001b[0m\n\u001b[1;32m    151\u001b[0m \u001b[0;34m\u001b[0m\u001b[0m\n\u001b[0;32m--> 152\u001b[0;31m         \u001b[0mcontext\u001b[0m \u001b[0;34m=\u001b[0m \u001b[0mself\u001b[0m\u001b[0;34m.\u001b[0m\u001b[0mSTART\u001b[0m \u001b[0;34m+\u001b[0m \u001b[0;34m[\u001b[0m\u001b[0mself\u001b[0m\u001b[0;34m.\u001b[0m\u001b[0mnormalize\u001b[0m\u001b[0;34m(\u001b[0m\u001b[0mw\u001b[0m\u001b[0;34m)\u001b[0m \u001b[0;32mfor\u001b[0m \u001b[0mw\u001b[0m \u001b[0;32min\u001b[0m \u001b[0mtokens\u001b[0m\u001b[0;34m]\u001b[0m \u001b[0;34m+\u001b[0m \u001b[0mself\u001b[0m\u001b[0;34m.\u001b[0m\u001b[0mEND\u001b[0m\u001b[0;34m\u001b[0m\u001b[0;34m\u001b[0m\u001b[0m\n\u001b[0m\u001b[1;32m    153\u001b[0m         \u001b[0;32mfor\u001b[0m \u001b[0mi\u001b[0m\u001b[0;34m,\u001b[0m \u001b[0mword\u001b[0m \u001b[0;32min\u001b[0m \u001b[0menumerate\u001b[0m\u001b[0;34m(\u001b[0m\u001b[0mtokens\u001b[0m\u001b[0;34m)\u001b[0m\u001b[0;34m:\u001b[0m\u001b[0;34m\u001b[0m\u001b[0;34m\u001b[0m\u001b[0m\n\u001b[1;32m    154\u001b[0m             \u001b[0mtag\u001b[0m \u001b[0;34m=\u001b[0m \u001b[0mself\u001b[0m\u001b[0;34m.\u001b[0m\u001b[0mtagdict\u001b[0m\u001b[0;34m.\u001b[0m\u001b[0mget\u001b[0m\u001b[0;34m(\u001b[0m\u001b[0mword\u001b[0m\u001b[0;34m)\u001b[0m\u001b[0;34m\u001b[0m\u001b[0;34m\u001b[0m\u001b[0m\n",
            "\u001b[0;32m/usr/local/lib/python3.6/dist-packages/nltk/tag/perceptron.py\u001b[0m in \u001b[0;36mnormalize\u001b[0;34m(self, word)\u001b[0m\n\u001b[1;32m    238\u001b[0m         \u001b[0;32melif\u001b[0m \u001b[0mword\u001b[0m\u001b[0;34m.\u001b[0m\u001b[0misdigit\u001b[0m\u001b[0;34m(\u001b[0m\u001b[0;34m)\u001b[0m \u001b[0;32mand\u001b[0m \u001b[0mlen\u001b[0m\u001b[0;34m(\u001b[0m\u001b[0mword\u001b[0m\u001b[0;34m)\u001b[0m \u001b[0;34m==\u001b[0m \u001b[0;36m4\u001b[0m\u001b[0;34m:\u001b[0m\u001b[0;34m\u001b[0m\u001b[0;34m\u001b[0m\u001b[0m\n\u001b[1;32m    239\u001b[0m             \u001b[0;32mreturn\u001b[0m \u001b[0;34m'!YEAR'\u001b[0m\u001b[0;34m\u001b[0m\u001b[0;34m\u001b[0m\u001b[0m\n\u001b[0;32m--> 240\u001b[0;31m         \u001b[0;32melif\u001b[0m \u001b[0mword\u001b[0m\u001b[0;34m[\u001b[0m\u001b[0;36m0\u001b[0m\u001b[0;34m]\u001b[0m\u001b[0;34m.\u001b[0m\u001b[0misdigit\u001b[0m\u001b[0;34m(\u001b[0m\u001b[0;34m)\u001b[0m\u001b[0;34m:\u001b[0m\u001b[0;34m\u001b[0m\u001b[0;34m\u001b[0m\u001b[0m\n\u001b[0m\u001b[1;32m    241\u001b[0m             \u001b[0;32mreturn\u001b[0m \u001b[0;34m'!DIGITS'\u001b[0m\u001b[0;34m\u001b[0m\u001b[0;34m\u001b[0m\u001b[0m\n\u001b[1;32m    242\u001b[0m         \u001b[0;32melse\u001b[0m\u001b[0;34m:\u001b[0m\u001b[0;34m\u001b[0m\u001b[0;34m\u001b[0m\u001b[0m\n",
            "\u001b[0;31mIndexError\u001b[0m: string index out of range"
          ]
        }
      ]
    },
    {
      "cell_type": "code",
      "metadata": {
        "id": "xOsQQg72Zyh7"
      },
      "source": [
        "finaltable = pd.DataFrame(data).T\n",
        "finaltable"
      ],
      "execution_count": null,
      "outputs": []
    },
    {
      "cell_type": "code",
      "metadata": {
        "id": "OpATBI2NZzfM"
      },
      "source": [
        "database = pd.DataFrame(data)\n",
        "database.to_csv('/content/drive/My Drive/keywords.csv', index=False)"
      ],
      "execution_count": null,
      "outputs": []
    },
    {
      "cell_type": "markdown",
      "metadata": {
        "id": "oA40TFLQQrsQ"
      },
      "source": [
        "#Checks"
      ]
    },
    {
      "cell_type": "code",
      "metadata": {
        "id": "rATpxtFK9Hxe",
        "outputId": "5a397f4e-862a-4106-9847-3d8aa8e62da1",
        "colab": {
          "base_uri": "https://localhost:8080/",
          "height": 80
        }
      },
      "source": [
        "dictionary['B00GI8RRZE']"
      ],
      "execution_count": 45,
      "outputs": [
        {
          "output_type": "execute_result",
          "data": {
            "text/html": [
              "<div>\n",
              "<style scoped>\n",
              "    .dataframe tbody tr th:only-of-type {\n",
              "        vertical-align: middle;\n",
              "    }\n",
              "\n",
              "    .dataframe tbody tr th {\n",
              "        vertical-align: top;\n",
              "    }\n",
              "\n",
              "    .dataframe thead th {\n",
              "        text-align: right;\n",
              "    }\n",
              "</style>\n",
              "<table border=\"1\" class=\"dataframe\">\n",
              "  <thead>\n",
              "    <tr style=\"text-align: right;\">\n",
              "      <th></th>\n",
              "      <th>Rating</th>\n",
              "      <th>IC</th>\n",
              "      <th>Review</th>\n",
              "      <th>Rev_summ</th>\n",
              "      <th>Useful</th>\n",
              "    </tr>\n",
              "  </thead>\n",
              "  <tbody>\n",
              "    <tr>\n",
              "      <th>759794</th>\n",
              "      <td>3</td>\n",
              "      <td>B00GI8RRZE</td>\n",
              "      <td>Bulky and inconsistent</td>\n",
              "      <td>Three Stars</td>\n",
              "      <td>1</td>\n",
              "    </tr>\n",
              "  </tbody>\n",
              "</table>\n",
              "</div>"
            ],
            "text/plain": [
              "        Rating          IC                   Review      Rev_summ  Useful\n",
              "759794       3  B00GI8RRZE  Bulky and inconsistent   Three Stars        1"
            ]
          },
          "metadata": {
            "tags": []
          },
          "execution_count": 45
        }
      ]
    },
    {
      "cell_type": "code",
      "metadata": {
        "id": "qdICKeCeYipM",
        "outputId": "e8017a6f-77b3-456a-dea4-24ebbb73633c",
        "colab": {
          "base_uri": "https://localhost:8080/",
          "height": 341
        }
      },
      "source": [
        "final_file('B00GI8RRZE')"
      ],
      "execution_count": 49,
      "outputs": [
        {
          "output_type": "stream",
          "text": [
            "Bulky and inconsistent    gh 25\n",
            "suma:   Bulky and inconsistent    Three Stars   \n"
          ],
          "name": "stdout"
        },
        {
          "output_type": "error",
          "ename": "IndexError",
          "evalue": "ignored",
          "traceback": [
            "\u001b[0;31m---------------------------------------------------------------------------\u001b[0m",
            "\u001b[0;31mIndexError\u001b[0m                                Traceback (most recent call last)",
            "\u001b[0;32m<ipython-input-49-be9fa63a49de>\u001b[0m in \u001b[0;36m<module>\u001b[0;34m()\u001b[0m\n\u001b[0;32m----> 1\u001b[0;31m \u001b[0mfinal_file\u001b[0m\u001b[0;34m(\u001b[0m\u001b[0;34m'B00GI8RRZE'\u001b[0m\u001b[0;34m)\u001b[0m\u001b[0;34m\u001b[0m\u001b[0;34m\u001b[0m\u001b[0m\n\u001b[0m",
            "\u001b[0;32m<ipython-input-48-660386210c5d>\u001b[0m in \u001b[0;36mfinal_file\u001b[0;34m(IC)\u001b[0m\n\u001b[1;32m     23\u001b[0m   \u001b[0;31m#Generate final dataframe\u001b[0m\u001b[0;34m\u001b[0m\u001b[0;34m\u001b[0m\u001b[0;34m\u001b[0m\u001b[0m\n\u001b[1;32m     24\u001b[0m \u001b[0;34m\u001b[0m\u001b[0m\n\u001b[0;32m---> 25\u001b[0;31m   \u001b[0mdata\u001b[0m\u001b[0;34m[\u001b[0m\u001b[0mIC\u001b[0m\u001b[0;34m]\u001b[0m \u001b[0;34m=\u001b[0m \u001b[0;34m[\u001b[0m\u001b[0mdictionary\u001b[0m\u001b[0;34m[\u001b[0m\u001b[0mIC\u001b[0m\u001b[0;34m]\u001b[0m\u001b[0;34m[\u001b[0m\u001b[0;34m'Rating'\u001b[0m\u001b[0;34m]\u001b[0m\u001b[0;34m.\u001b[0m\u001b[0mmax\u001b[0m\u001b[0;34m(\u001b[0m\u001b[0;34m)\u001b[0m\u001b[0;34m,\u001b[0m \u001b[0mdictionary\u001b[0m\u001b[0;34m[\u001b[0m\u001b[0mIC\u001b[0m\u001b[0;34m]\u001b[0m\u001b[0;34m[\u001b[0m\u001b[0;34m'Rating'\u001b[0m\u001b[0;34m]\u001b[0m\u001b[0;34m.\u001b[0m\u001b[0mmean\u001b[0m\u001b[0;34m(\u001b[0m\u001b[0;34m)\u001b[0m\u001b[0;34m,\u001b[0m \u001b[0mdictionary\u001b[0m\u001b[0;34m[\u001b[0m\u001b[0mIC\u001b[0m\u001b[0;34m]\u001b[0m\u001b[0;34m[\u001b[0m\u001b[0;34m'Rating'\u001b[0m\u001b[0;34m]\u001b[0m\u001b[0;34m.\u001b[0m\u001b[0mmin\u001b[0m\u001b[0;34m(\u001b[0m\u001b[0;34m)\u001b[0m\u001b[0;34m,\u001b[0m \u001b[0;34m[\u001b[0m\u001b[0mlematise\u001b[0m\u001b[0;34m(\u001b[0m\u001b[0mkeywords\u001b[0m\u001b[0;34m(\u001b[0m\u001b[0msuma\u001b[0m\u001b[0;34m)\u001b[0m\u001b[0;34m.\u001b[0m\u001b[0msplit\u001b[0m\u001b[0;34m(\u001b[0m\u001b[0;34m'\\n'\u001b[0m\u001b[0;34m)\u001b[0m\u001b[0;34m)\u001b[0m\u001b[0;34m]\u001b[0m\u001b[0;34m]\u001b[0m\u001b[0;34m\u001b[0m\u001b[0;34m\u001b[0m\u001b[0m\n\u001b[0m\u001b[1;32m     26\u001b[0m \u001b[0;34m\u001b[0m\u001b[0m\n\u001b[1;32m     27\u001b[0m   \u001b[0;32mreturn\u001b[0m \u001b[0mdata\u001b[0m\u001b[0;34m\u001b[0m\u001b[0;34m\u001b[0m\u001b[0m\n",
            "\u001b[0;32m<ipython-input-27-4deb3fad10f9>\u001b[0m in \u001b[0;36mlematise\u001b[0;34m(text)\u001b[0m\n\u001b[1;32m     19\u001b[0m \u001b[0;34m\u001b[0m\u001b[0m\n\u001b[1;32m     20\u001b[0m \u001b[0;32mdef\u001b[0m \u001b[0mlematise\u001b[0m\u001b[0;34m(\u001b[0m\u001b[0mtext\u001b[0m\u001b[0;34m)\u001b[0m\u001b[0;34m:\u001b[0m\u001b[0;34m\u001b[0m\u001b[0;34m\u001b[0m\u001b[0m\n\u001b[0;32m---> 21\u001b[0;31m     \u001b[0mpos_tags\u001b[0m \u001b[0;34m=\u001b[0m \u001b[0mpos_tag\u001b[0m\u001b[0;34m(\u001b[0m\u001b[0mtext\u001b[0m\u001b[0;34m)\u001b[0m\u001b[0;34m\u001b[0m\u001b[0;34m\u001b[0m\u001b[0m\n\u001b[0m\u001b[1;32m     22\u001b[0m     \u001b[0;31m# lemmatize text\u001b[0m\u001b[0;34m\u001b[0m\u001b[0;34m\u001b[0m\u001b[0;34m\u001b[0m\u001b[0m\n\u001b[1;32m     23\u001b[0m     \u001b[0mtext\u001b[0m \u001b[0;34m=\u001b[0m \u001b[0;34m[\u001b[0m\u001b[0mWordNetLemmatizer\u001b[0m\u001b[0;34m(\u001b[0m\u001b[0;34m)\u001b[0m\u001b[0;34m.\u001b[0m\u001b[0mlemmatize\u001b[0m\u001b[0;34m(\u001b[0m\u001b[0mt\u001b[0m\u001b[0;34m[\u001b[0m\u001b[0;36m0\u001b[0m\u001b[0;34m]\u001b[0m\u001b[0;34m,\u001b[0m \u001b[0mget_wordnet_pos\u001b[0m\u001b[0;34m(\u001b[0m\u001b[0mt\u001b[0m\u001b[0;34m[\u001b[0m\u001b[0;36m1\u001b[0m\u001b[0;34m]\u001b[0m\u001b[0;34m)\u001b[0m\u001b[0;34m)\u001b[0m \u001b[0;32mfor\u001b[0m \u001b[0mt\u001b[0m \u001b[0;32min\u001b[0m \u001b[0mpos_tags\u001b[0m\u001b[0;34m]\u001b[0m\u001b[0;34m\u001b[0m\u001b[0;34m\u001b[0m\u001b[0m\n",
            "\u001b[0;32m/usr/local/lib/python3.6/dist-packages/nltk/tag/__init__.py\u001b[0m in \u001b[0;36mpos_tag\u001b[0;34m(tokens, tagset, lang)\u001b[0m\n\u001b[1;32m    132\u001b[0m     \"\"\"\n\u001b[1;32m    133\u001b[0m     \u001b[0mtagger\u001b[0m \u001b[0;34m=\u001b[0m \u001b[0m_get_tagger\u001b[0m\u001b[0;34m(\u001b[0m\u001b[0mlang\u001b[0m\u001b[0;34m)\u001b[0m\u001b[0;34m\u001b[0m\u001b[0;34m\u001b[0m\u001b[0m\n\u001b[0;32m--> 134\u001b[0;31m     \u001b[0;32mreturn\u001b[0m \u001b[0m_pos_tag\u001b[0m\u001b[0;34m(\u001b[0m\u001b[0mtokens\u001b[0m\u001b[0;34m,\u001b[0m \u001b[0mtagset\u001b[0m\u001b[0;34m,\u001b[0m \u001b[0mtagger\u001b[0m\u001b[0;34m)\u001b[0m\u001b[0;34m\u001b[0m\u001b[0;34m\u001b[0m\u001b[0m\n\u001b[0m\u001b[1;32m    135\u001b[0m \u001b[0;34m\u001b[0m\u001b[0m\n\u001b[1;32m    136\u001b[0m \u001b[0;34m\u001b[0m\u001b[0m\n",
            "\u001b[0;32m/usr/local/lib/python3.6/dist-packages/nltk/tag/__init__.py\u001b[0m in \u001b[0;36m_pos_tag\u001b[0;34m(tokens, tagset, tagger)\u001b[0m\n\u001b[1;32m    100\u001b[0m \u001b[0;34m\u001b[0m\u001b[0m\n\u001b[1;32m    101\u001b[0m \u001b[0;32mdef\u001b[0m \u001b[0m_pos_tag\u001b[0m\u001b[0;34m(\u001b[0m\u001b[0mtokens\u001b[0m\u001b[0;34m,\u001b[0m \u001b[0mtagset\u001b[0m\u001b[0;34m,\u001b[0m \u001b[0mtagger\u001b[0m\u001b[0;34m)\u001b[0m\u001b[0;34m:\u001b[0m\u001b[0;34m\u001b[0m\u001b[0;34m\u001b[0m\u001b[0m\n\u001b[0;32m--> 102\u001b[0;31m     \u001b[0mtagged_tokens\u001b[0m \u001b[0;34m=\u001b[0m \u001b[0mtagger\u001b[0m\u001b[0;34m.\u001b[0m\u001b[0mtag\u001b[0m\u001b[0;34m(\u001b[0m\u001b[0mtokens\u001b[0m\u001b[0;34m)\u001b[0m\u001b[0;34m\u001b[0m\u001b[0;34m\u001b[0m\u001b[0m\n\u001b[0m\u001b[1;32m    103\u001b[0m     \u001b[0;32mif\u001b[0m \u001b[0mtagset\u001b[0m\u001b[0;34m:\u001b[0m\u001b[0;34m\u001b[0m\u001b[0;34m\u001b[0m\u001b[0m\n\u001b[1;32m    104\u001b[0m         \u001b[0mtagged_tokens\u001b[0m \u001b[0;34m=\u001b[0m \u001b[0;34m[\u001b[0m\u001b[0;34m(\u001b[0m\u001b[0mtoken\u001b[0m\u001b[0;34m,\u001b[0m \u001b[0mmap_tag\u001b[0m\u001b[0;34m(\u001b[0m\u001b[0;34m'en-ptb'\u001b[0m\u001b[0;34m,\u001b[0m \u001b[0mtagset\u001b[0m\u001b[0;34m,\u001b[0m \u001b[0mtag\u001b[0m\u001b[0;34m)\u001b[0m\u001b[0;34m)\u001b[0m \u001b[0;32mfor\u001b[0m \u001b[0;34m(\u001b[0m\u001b[0mtoken\u001b[0m\u001b[0;34m,\u001b[0m \u001b[0mtag\u001b[0m\u001b[0;34m)\u001b[0m \u001b[0;32min\u001b[0m \u001b[0mtagged_tokens\u001b[0m\u001b[0;34m]\u001b[0m\u001b[0;34m\u001b[0m\u001b[0;34m\u001b[0m\u001b[0m\n",
            "\u001b[0;32m/usr/local/lib/python3.6/dist-packages/nltk/tag/perceptron.py\u001b[0m in \u001b[0;36mtag\u001b[0;34m(self, tokens)\u001b[0m\n\u001b[1;32m    150\u001b[0m         \u001b[0moutput\u001b[0m \u001b[0;34m=\u001b[0m \u001b[0;34m[\u001b[0m\u001b[0;34m]\u001b[0m\u001b[0;34m\u001b[0m\u001b[0;34m\u001b[0m\u001b[0m\n\u001b[1;32m    151\u001b[0m \u001b[0;34m\u001b[0m\u001b[0m\n\u001b[0;32m--> 152\u001b[0;31m         \u001b[0mcontext\u001b[0m \u001b[0;34m=\u001b[0m \u001b[0mself\u001b[0m\u001b[0;34m.\u001b[0m\u001b[0mSTART\u001b[0m \u001b[0;34m+\u001b[0m \u001b[0;34m[\u001b[0m\u001b[0mself\u001b[0m\u001b[0;34m.\u001b[0m\u001b[0mnormalize\u001b[0m\u001b[0;34m(\u001b[0m\u001b[0mw\u001b[0m\u001b[0;34m)\u001b[0m \u001b[0;32mfor\u001b[0m \u001b[0mw\u001b[0m \u001b[0;32min\u001b[0m \u001b[0mtokens\u001b[0m\u001b[0;34m]\u001b[0m \u001b[0;34m+\u001b[0m \u001b[0mself\u001b[0m\u001b[0;34m.\u001b[0m\u001b[0mEND\u001b[0m\u001b[0;34m\u001b[0m\u001b[0;34m\u001b[0m\u001b[0m\n\u001b[0m\u001b[1;32m    153\u001b[0m         \u001b[0;32mfor\u001b[0m \u001b[0mi\u001b[0m\u001b[0;34m,\u001b[0m \u001b[0mword\u001b[0m \u001b[0;32min\u001b[0m \u001b[0menumerate\u001b[0m\u001b[0;34m(\u001b[0m\u001b[0mtokens\u001b[0m\u001b[0;34m)\u001b[0m\u001b[0;34m:\u001b[0m\u001b[0;34m\u001b[0m\u001b[0;34m\u001b[0m\u001b[0m\n\u001b[1;32m    154\u001b[0m             \u001b[0mtag\u001b[0m \u001b[0;34m=\u001b[0m \u001b[0mself\u001b[0m\u001b[0;34m.\u001b[0m\u001b[0mtagdict\u001b[0m\u001b[0;34m.\u001b[0m\u001b[0mget\u001b[0m\u001b[0;34m(\u001b[0m\u001b[0mword\u001b[0m\u001b[0;34m)\u001b[0m\u001b[0;34m\u001b[0m\u001b[0;34m\u001b[0m\u001b[0m\n",
            "\u001b[0;32m/usr/local/lib/python3.6/dist-packages/nltk/tag/perceptron.py\u001b[0m in \u001b[0;36m<listcomp>\u001b[0;34m(.0)\u001b[0m\n\u001b[1;32m    150\u001b[0m         \u001b[0moutput\u001b[0m \u001b[0;34m=\u001b[0m \u001b[0;34m[\u001b[0m\u001b[0;34m]\u001b[0m\u001b[0;34m\u001b[0m\u001b[0;34m\u001b[0m\u001b[0m\n\u001b[1;32m    151\u001b[0m \u001b[0;34m\u001b[0m\u001b[0m\n\u001b[0;32m--> 152\u001b[0;31m         \u001b[0mcontext\u001b[0m \u001b[0;34m=\u001b[0m \u001b[0mself\u001b[0m\u001b[0;34m.\u001b[0m\u001b[0mSTART\u001b[0m \u001b[0;34m+\u001b[0m \u001b[0;34m[\u001b[0m\u001b[0mself\u001b[0m\u001b[0;34m.\u001b[0m\u001b[0mnormalize\u001b[0m\u001b[0;34m(\u001b[0m\u001b[0mw\u001b[0m\u001b[0;34m)\u001b[0m \u001b[0;32mfor\u001b[0m \u001b[0mw\u001b[0m \u001b[0;32min\u001b[0m \u001b[0mtokens\u001b[0m\u001b[0;34m]\u001b[0m \u001b[0;34m+\u001b[0m \u001b[0mself\u001b[0m\u001b[0;34m.\u001b[0m\u001b[0mEND\u001b[0m\u001b[0;34m\u001b[0m\u001b[0;34m\u001b[0m\u001b[0m\n\u001b[0m\u001b[1;32m    153\u001b[0m         \u001b[0;32mfor\u001b[0m \u001b[0mi\u001b[0m\u001b[0;34m,\u001b[0m \u001b[0mword\u001b[0m \u001b[0;32min\u001b[0m \u001b[0menumerate\u001b[0m\u001b[0;34m(\u001b[0m\u001b[0mtokens\u001b[0m\u001b[0;34m)\u001b[0m\u001b[0;34m:\u001b[0m\u001b[0;34m\u001b[0m\u001b[0;34m\u001b[0m\u001b[0m\n\u001b[1;32m    154\u001b[0m             \u001b[0mtag\u001b[0m \u001b[0;34m=\u001b[0m \u001b[0mself\u001b[0m\u001b[0;34m.\u001b[0m\u001b[0mtagdict\u001b[0m\u001b[0;34m.\u001b[0m\u001b[0mget\u001b[0m\u001b[0;34m(\u001b[0m\u001b[0mword\u001b[0m\u001b[0;34m)\u001b[0m\u001b[0;34m\u001b[0m\u001b[0;34m\u001b[0m\u001b[0m\n",
            "\u001b[0;32m/usr/local/lib/python3.6/dist-packages/nltk/tag/perceptron.py\u001b[0m in \u001b[0;36mnormalize\u001b[0;34m(self, word)\u001b[0m\n\u001b[1;32m    238\u001b[0m         \u001b[0;32melif\u001b[0m \u001b[0mword\u001b[0m\u001b[0;34m.\u001b[0m\u001b[0misdigit\u001b[0m\u001b[0;34m(\u001b[0m\u001b[0;34m)\u001b[0m \u001b[0;32mand\u001b[0m \u001b[0mlen\u001b[0m\u001b[0;34m(\u001b[0m\u001b[0mword\u001b[0m\u001b[0;34m)\u001b[0m \u001b[0;34m==\u001b[0m \u001b[0;36m4\u001b[0m\u001b[0;34m:\u001b[0m\u001b[0;34m\u001b[0m\u001b[0;34m\u001b[0m\u001b[0m\n\u001b[1;32m    239\u001b[0m             \u001b[0;32mreturn\u001b[0m \u001b[0;34m'!YEAR'\u001b[0m\u001b[0;34m\u001b[0m\u001b[0;34m\u001b[0m\u001b[0m\n\u001b[0;32m--> 240\u001b[0;31m         \u001b[0;32melif\u001b[0m \u001b[0mword\u001b[0m\u001b[0;34m[\u001b[0m\u001b[0;36m0\u001b[0m\u001b[0;34m]\u001b[0m\u001b[0;34m.\u001b[0m\u001b[0misdigit\u001b[0m\u001b[0;34m(\u001b[0m\u001b[0;34m)\u001b[0m\u001b[0;34m:\u001b[0m\u001b[0;34m\u001b[0m\u001b[0;34m\u001b[0m\u001b[0m\n\u001b[0m\u001b[1;32m    241\u001b[0m             \u001b[0;32mreturn\u001b[0m \u001b[0;34m'!DIGITS'\u001b[0m\u001b[0;34m\u001b[0m\u001b[0;34m\u001b[0m\u001b[0m\n\u001b[1;32m    242\u001b[0m         \u001b[0;32melse\u001b[0m\u001b[0;34m:\u001b[0m\u001b[0;34m\u001b[0m\u001b[0;34m\u001b[0m\u001b[0m\n",
            "\u001b[0;31mIndexError\u001b[0m: string index out of range"
          ]
        }
      ]
    },
    {
      "cell_type": "code",
      "metadata": {
        "id": "kQWtxLO9ZJv2",
        "outputId": "c5e3bab6-0144-4ed9-b2b8-8927dc2cc3b7",
        "colab": {
          "base_uri": "https://localhost:8080/",
          "height": 700
        }
      },
      "source": [
        "final_file('B00G9TJIR2')"
      ],
      "execution_count": 50,
      "outputs": [
        {
          "output_type": "stream",
          "text": [
            "Fast delivery. Great item  gh 26\n",
            "Economical and easy to apply, these screen protectors are a great value!  Yes, you could pay more, but all I wanted was\n",
            "protection, not glitter or mirror finish. As it says in the description, the screen protector does not cover the entire screen.\n",
            "TIP:  Install the screen protector with your phone case already on the phone.  Enjoy!  gh 334\n",
            "For the price, these can't be beat. They do come with some scratches on them but aren't noticeable unless in the light. The first one gave me some trouble and bubbled up. I managed to get most out but could not live with them. I put the second one on and got every single bubble out using a credit card. I am happy with these but wish they were just a little bit higher quality but for $1.79 they are very much worth it.  gh 421\n",
            "Worked well. The easiest phone protector I've put on!  gh 54\n",
            "Worked as it should  gh 20\n",
            "Fits like a glove. No scratches, no bubbles.  gh 45\n",
            "I replaced my screen protector after a year of good use because it was becoming scratched. So I bought these. Unfortunately these are terrible quality. Within a week something in my purse had managed to puncture and scratch the screen protector, making a bubble right in the middle of my phone screen. I don't understand why my first screen protector had no problem with this. I gave the second of these to a friend and haven't heard anything negative from her but I will not be buying this brand in the future.  gh 512\n",
            "suma:   Fast delivery. Great item  Economical and easy to apply, these screen protectors are a great value!  Yes, you could pay more, but all I wanted was\n",
            "protection, not glitter or mirror finish. As it says in the description, the screen protector does not cover the entire screen.\n",
            "TIP:  Install the screen protector with your phone case already on the phone.  Enjoy!  For the price, these can't be beat. They do come with some scratches on them but aren't noticeable unless in the light. The first one gave me some trouble and bubbled up. I managed to get most out but could not live with them. I put the second one on and got every single bubble out using a credit card. I am happy with these but wish they were just a little bit higher quality but for $1.79 they are very much worth it.  Worked well. The easiest phone protector I've put on!  Worked as it should  Fits like a glove. No scratches, no bubbles.  I replaced my screen protector after a year of good use because it was becoming scratched. So I bought these. Unfortunately these are terrible quality. Within a week something in my purse had managed to puncture and scratch the screen protector, making a bubble right in the middle of my phone screen. I don't understand why my first screen protector had no problem with this. I gave the second of these to a friend and haven't heard anything negative from her but I will not be buying this brand in the future.  Great item \n",
            "suma:   Fast delivery. Great item  Economical and easy to apply, these screen protectors are a great value!  Yes, you could pay more, but all I wanted was\n",
            "protection, not glitter or mirror finish. As it says in the description, the screen protector does not cover the entire screen.\n",
            "TIP:  Install the screen protector with your phone case already on the phone.  Enjoy!  For the price, these can't be beat. They do come with some scratches on them but aren't noticeable unless in the light. The first one gave me some trouble and bubbled up. I managed to get most out but could not live with them. I put the second one on and got every single bubble out using a credit card. I am happy with these but wish they were just a little bit higher quality but for $1.79 they are very much worth it.  Worked well. The easiest phone protector I've put on!  Worked as it should  Fits like a glove. No scratches, no bubbles.  I replaced my screen protector after a year of good use because it was becoming scratched. So I bought these. Unfortunately these are terrible quality. Within a week something in my purse had managed to puncture and scratch the screen protector, making a bubble right in the middle of my phone screen. I don't understand why my first screen protector had no problem with this. I gave the second of these to a friend and haven't heard anything negative from her but I will not be buying this brand in the future.  Great item  Excellent Protection and Great Value! \n",
            "suma:   Fast delivery. Great item  Economical and easy to apply, these screen protectors are a great value!  Yes, you could pay more, but all I wanted was\n",
            "protection, not glitter or mirror finish. As it says in the description, the screen protector does not cover the entire screen.\n",
            "TIP:  Install the screen protector with your phone case already on the phone.  Enjoy!  For the price, these can't be beat. They do come with some scratches on them but aren't noticeable unless in the light. The first one gave me some trouble and bubbled up. I managed to get most out but could not live with them. I put the second one on and got every single bubble out using a credit card. I am happy with these but wish they were just a little bit higher quality but for $1.79 they are very much worth it.  Worked well. The easiest phone protector I've put on!  Worked as it should  Fits like a glove. No scratches, no bubbles.  I replaced my screen protector after a year of good use because it was becoming scratched. So I bought these. Unfortunately these are terrible quality. Within a week something in my purse had managed to puncture and scratch the screen protector, making a bubble right in the middle of my phone screen. I don't understand why my first screen protector had no problem with this. I gave the second of these to a friend and haven't heard anything negative from her but I will not be buying this brand in the future.  Great item  Excellent Protection and Great Value!  Great for the price \n",
            "suma:   Fast delivery. Great item  Economical and easy to apply, these screen protectors are a great value!  Yes, you could pay more, but all I wanted was\n",
            "protection, not glitter or mirror finish. As it says in the description, the screen protector does not cover the entire screen.\n",
            "TIP:  Install the screen protector with your phone case already on the phone.  Enjoy!  For the price, these can't be beat. They do come with some scratches on them but aren't noticeable unless in the light. The first one gave me some trouble and bubbled up. I managed to get most out but could not live with them. I put the second one on and got every single bubble out using a credit card. I am happy with these but wish they were just a little bit higher quality but for $1.79 they are very much worth it.  Worked well. The easiest phone protector I've put on!  Worked as it should  Fits like a glove. No scratches, no bubbles.  I replaced my screen protector after a year of good use because it was becoming scratched. So I bought these. Unfortunately these are terrible quality. Within a week something in my purse had managed to puncture and scratch the screen protector, making a bubble right in the middle of my phone screen. I don't understand why my first screen protector had no problem with this. I gave the second of these to a friend and haven't heard anything negative from her but I will not be buying this brand in the future.  Great item  Excellent Protection and Great Value!  Great for the price  Five Stars \n",
            "suma:   Fast delivery. Great item  Economical and easy to apply, these screen protectors are a great value!  Yes, you could pay more, but all I wanted was\n",
            "protection, not glitter or mirror finish. As it says in the description, the screen protector does not cover the entire screen.\n",
            "TIP:  Install the screen protector with your phone case already on the phone.  Enjoy!  For the price, these can't be beat. They do come with some scratches on them but aren't noticeable unless in the light. The first one gave me some trouble and bubbled up. I managed to get most out but could not live with them. I put the second one on and got every single bubble out using a credit card. I am happy with these but wish they were just a little bit higher quality but for $1.79 they are very much worth it.  Worked well. The easiest phone protector I've put on!  Worked as it should  Fits like a glove. No scratches, no bubbles.  I replaced my screen protector after a year of good use because it was becoming scratched. So I bought these. Unfortunately these are terrible quality. Within a week something in my purse had managed to puncture and scratch the screen protector, making a bubble right in the middle of my phone screen. I don't understand why my first screen protector had no problem with this. I gave the second of these to a friend and haven't heard anything negative from her but I will not be buying this brand in the future.  Great item  Excellent Protection and Great Value!  Great for the price  Five Stars  Four Stars \n",
            "suma:   Fast delivery. Great item  Economical and easy to apply, these screen protectors are a great value!  Yes, you could pay more, but all I wanted was\n",
            "protection, not glitter or mirror finish. As it says in the description, the screen protector does not cover the entire screen.\n",
            "TIP:  Install the screen protector with your phone case already on the phone.  Enjoy!  For the price, these can't be beat. They do come with some scratches on them but aren't noticeable unless in the light. The first one gave me some trouble and bubbled up. I managed to get most out but could not live with them. I put the second one on and got every single bubble out using a credit card. I am happy with these but wish they were just a little bit higher quality but for $1.79 they are very much worth it.  Worked well. The easiest phone protector I've put on!  Worked as it should  Fits like a glove. No scratches, no bubbles.  I replaced my screen protector after a year of good use because it was becoming scratched. So I bought these. Unfortunately these are terrible quality. Within a week something in my purse had managed to puncture and scratch the screen protector, making a bubble right in the middle of my phone screen. I don't understand why my first screen protector had no problem with this. I gave the second of these to a friend and haven't heard anything negative from her but I will not be buying this brand in the future.  Great item  Excellent Protection and Great Value!  Great for the price  Five Stars  Four Stars  A screen protector worth the money. \n",
            "suma:   Fast delivery. Great item  Economical and easy to apply, these screen protectors are a great value!  Yes, you could pay more, but all I wanted was\n",
            "protection, not glitter or mirror finish. As it says in the description, the screen protector does not cover the entire screen.\n",
            "TIP:  Install the screen protector with your phone case already on the phone.  Enjoy!  For the price, these can't be beat. They do come with some scratches on them but aren't noticeable unless in the light. The first one gave me some trouble and bubbled up. I managed to get most out but could not live with them. I put the second one on and got every single bubble out using a credit card. I am happy with these but wish they were just a little bit higher quality but for $1.79 they are very much worth it.  Worked well. The easiest phone protector I've put on!  Worked as it should  Fits like a glove. No scratches, no bubbles.  I replaced my screen protector after a year of good use because it was becoming scratched. So I bought these. Unfortunately these are terrible quality. Within a week something in my purse had managed to puncture and scratch the screen protector, making a bubble right in the middle of my phone screen. I don't understand why my first screen protector had no problem with this. I gave the second of these to a friend and haven't heard anything negative from her but I will not be buying this brand in the future.  Great item  Excellent Protection and Great Value!  Great for the price  Five Stars  Four Stars  A screen protector worth the money.  I replaced my screen protector after a year of good use because it was becoming scratched \n"
          ],
          "name": "stdout"
        },
        {
          "output_type": "execute_result",
          "data": {
            "text/plain": [
              "{'B00G9TJIR2': [5,\n",
              "  4.285714285714286,\n",
              "  2,\n",
              "  [{'bubble',\n",
              "    'great item',\n",
              "    'phone',\n",
              "    'protector',\n",
              "    'quality',\n",
              "    'screen protectors'}]]}"
            ]
          },
          "metadata": {
            "tags": []
          },
          "execution_count": 50
        }
      ]
    },
    {
      "cell_type": "code",
      "metadata": {
        "id": "7gA3Gm0DM7Rg"
      },
      "source": [
        "dictionary['B00G9TJIR2']['Rev_summ']"
      ],
      "execution_count": null,
      "outputs": []
    },
    {
      "cell_type": "code",
      "metadata": {
        "id": "eosBJNVeQqrD"
      },
      "source": [
        "ICset = set(reviews_data['IC'])\n",
        "ICset2 = set(dictionary.keys())\n"
      ],
      "execution_count": 51,
      "outputs": []
    },
    {
      "cell_type": "code",
      "metadata": {
        "id": "VPMd0QB1RTHr",
        "outputId": "b3e10045-3834-4d01-efbf-489e23caa2b9",
        "colab": {
          "base_uri": "https://localhost:8080/",
          "height": 51
        }
      },
      "source": [
        "symmetricdifference = ICset ^ ICset2\n",
        "print(symmetricdifference)\n",
        "intersection = ICset ^ ICset2\n",
        "print(len(intersection))"
      ],
      "execution_count": 52,
      "outputs": [
        {
          "output_type": "stream",
          "text": [
            "set()\n",
            "0\n"
          ],
          "name": "stdout"
        }
      ]
    }
  ]
}